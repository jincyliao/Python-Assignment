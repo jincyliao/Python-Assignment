{
 "cells": [
  {
   "cell_type": "markdown",
   "metadata": {},
   "source": [
    "# Python Assignment"
   ]
  },
  {
   "cell_type": "markdown",
   "metadata": {},
   "source": [
    "### GitHub Repository"
   ]
  },
  {
   "cell_type": "markdown",
   "metadata": {},
   "source": [
    "https://github.com/jincyliao/Python-Assignment"
   ]
  },
  {
   "cell_type": "markdown",
   "metadata": {},
   "source": [
    "## 1. Write a function: gets sequences"
   ]
  },
  {
   "cell_type": "code",
   "execution_count": 1,
   "metadata": {
    "collapsed": true
   },
   "outputs": [],
   "source": [
    "#import SeqIO from Biopython; SeqIO is standard Sequence Input/Output interface for BioPython 1.43 and later\n",
    "#import CodonTable from Bio.data package\n",
    "#import the Python Data Analysis Library (Pandas) using the common nickname pd\n",
    "\n",
    "from Bio import SeqIO \n",
    "from Bio.Data import CodonTable\n",
    "import pandas as pd"
   ]
  },
  {
   "cell_type": "markdown",
   "metadata": {},
   "source": [
    "### Function: gets sequences"
   ]
  },
  {
   "cell_type": "code",
   "execution_count": 2,
   "metadata": {
    "collapsed": true
   },
   "outputs": [],
   "source": [
    "#define a function with fasta_fn argument\n",
    "#create an empty dictionary\n",
    "#SeqIO.parse function which takes a file handle (or filename) and format name, and returns a SeqRecord iterator.\n",
    "#make us can access individual parts of the string\n",
    "#species_name as a variable, which form the species name\n",
    "#species_name as the key to acess the corresponding sequence and the record ID\n",
    "#return the created dictionary\n",
    "\n",
    "def get_sequences_from_file(fasta_fn):\n",
    "    sequence_data_dict = {}\n",
    "    for record in SeqIO.parse(fasta_fn, \"fasta\"):\n",
    "        description = record.description.split()\n",
    "        species_name = description[1] + \" \" + description[2]\n",
    "        sequence_data_dict[species_name] = record.seq\n",
    "    return(sequence_data_dict)"
   ]
  },
  {
   "cell_type": "markdown",
   "metadata": {},
   "source": [
    "### Test"
   ]
  },
  {
   "cell_type": "code",
   "execution_count": 3,
   "metadata": {
    "collapsed": false
   },
   "outputs": [
    {
     "name": "stdout",
     "output_type": "stream",
     "text": [
      "{'Ursus spelaeus': Seq('ATGACCAACATCCGAAAAACCCATCCATTAGCTAAAATCATCAACAACTCATTT...AGA', SingleLetterAlphabet()), 'Ursus arctos': Seq('ATGACCAACATCCGAAAAACCCACCCATTAGCTAAAATCATCAACAACTCACTT...AGA', SingleLetterAlphabet()), 'Ursus thibetanus': Seq('ATGACCAACATCCGAAAAACCCATCCATTAGCCAAAATCATCAACAACTCACTC...AGA', SingleLetterAlphabet()), 'Melursus ursinus': Seq('ATGACCAACATCCGAAAAACCCACCCATTAGCTAAAATCATTAACAACTCACTC...AGA', SingleLetterAlphabet()), 'Ursus americanus': Seq('ATGACCAACATCCGAAAAACCCACCCATTAGCTAAAATCATCAACAACTCACTT...AGA', SingleLetterAlphabet()), 'Helarctos malayanus': Seq('ATGACCAACATCCGAAAAACCCACCCATTAGCTAAAATCATTAACAACTCACTT...AGA', SingleLetterAlphabet()), 'Ailuropoda melanoleuca': Seq('ATGATCAACATCCGAAAAACTCATCCATTAGTTAAAATTATCAACAACTCATTC...AGA', SingleLetterAlphabet()), 'Tremarctos ornatus': Seq('ATGACCAACATCCGAAAAACTCACCCACTAGCTAAAATCATCAACAGCTCATTC...AGA', SingleLetterAlphabet()), 'Ursus maritimus': Seq('ATGACCAACATCCGAAAAACCCACCCATTAGCTAAAATCATCAACAACTCATTT...AGA', SingleLetterAlphabet())}\n"
     ]
    }
   ],
   "source": [
    "#Use the \"bears_cytb.fasta\" example file to test this function\n",
    "\n",
    "Bears = get_sequences_from_file(\"bears_cytb.fasta\")\n",
    "print(Bears)"
   ]
  },
  {
   "cell_type": "code",
   "execution_count": 4,
   "metadata": {
    "collapsed": false
   },
   "outputs": [
    {
     "data": {
      "text/plain": [
       "dict_keys(['Ursus spelaeus', 'Ursus arctos', 'Ursus thibetanus', 'Melursus ursinus', 'Ursus americanus', 'Helarctos malayanus', 'Ailuropoda melanoleuca', 'Tremarctos ornatus', 'Ursus maritimus'])"
      ]
     },
     "execution_count": 4,
     "metadata": {},
     "output_type": "execute_result"
    }
   ],
   "source": [
    "#Test if keys for the created dictionary can be accurately returned\n",
    "\n",
    "Bears.keys()"
   ]
  },
  {
   "cell_type": "markdown",
   "metadata": {},
   "source": [
    "## 2. Write a function: translate sequences"
   ]
  },
  {
   "cell_type": "code",
   "execution_count": 5,
   "metadata": {
    "collapsed": false,
    "scrolled": true
   },
   "outputs": [
    {
     "name": "stdout",
     "output_type": "stream",
     "text": [
      "ATGAGCGGAGCCGGTAAGAAAATCGCGGATGTGGCTTTCAAAGCTTCAAGGACTATCGATTGGGATGGTATGGCTAAGGTCCTTGTCACAGATGAGGCTCGTAGAGAGTTCTCTAACCTTCGTCGTGCTTTCGATGAGGTTAACACACAGCTCCAGACCAAATTTAGTCAGGAACCTGAACCTATAGATTGGGATTACTATAGGAAGGGTATTGGAGCTGGCATTGTTGACAAGTACAAGGAAGCTTATGACAGCATTGAGATTCCAAAGTACGTTGACAAAGTTACTCCTGAATACAAGCCAAAGTTTGATGCTTTGTTGGTGGAACTGAAAGAAGCAGAACAGAAATCGCTCAAGGAGTCTGAACGGTTGGAGAAAGAAATTGCTGATGTCCAAGAGATCAGCAAAAAGCTCAGCACCATGACTGCAGATGAGTACTTTGAGAAGCACCCGGAACTCAAAAAGAAGTTTGATGACGAAATCCGTAATGACAACTGGGGATACTGA\n"
     ]
    }
   ],
   "source": [
    "#open the file containing a mitochondrial sequence for reading (the argument 'r')\n",
    "#The with- statement makes sure that the file is properly closed after reading it.\n",
    "\n",
    "with open('AT3G52300.txt', 'r') as test_sequence: \n",
    "    sample=test_sequence.read()\n",
    "print(sample)"
   ]
  },
  {
   "cell_type": "code",
   "execution_count": 6,
   "metadata": {
    "collapsed": false
   },
   "outputs": [
    {
     "name": "stdout",
     "output_type": "stream",
     "text": [
      "Table 2 Vertebrate Mitochondrial, SGC1\n",
      "\n",
      "  |  T      |  C      |  A      |  G      |\n",
      "--+---------+---------+---------+---------+--\n",
      "T | TTT F   | TCT S   | TAT Y   | TGT C   | T\n",
      "T | TTC F   | TCC S   | TAC Y   | TGC C   | C\n",
      "T | TTA L   | TCA S   | TAA Stop| TGA W   | A\n",
      "T | TTG L   | TCG S   | TAG Stop| TGG W   | G\n",
      "--+---------+---------+---------+---------+--\n",
      "C | CTT L   | CCT P   | CAT H   | CGT R   | T\n",
      "C | CTC L   | CCC P   | CAC H   | CGC R   | C\n",
      "C | CTA L   | CCA P   | CAA Q   | CGA R   | A\n",
      "C | CTG L   | CCG P   | CAG Q   | CGG R   | G\n",
      "--+---------+---------+---------+---------+--\n",
      "A | ATT I(s)| ACT T   | AAT N   | AGT S   | T\n",
      "A | ATC I(s)| ACC T   | AAC N   | AGC S   | C\n",
      "A | ATA M(s)| ACA T   | AAA K   | AGA Stop| A\n",
      "A | ATG M(s)| ACG T   | AAG K   | AGG Stop| G\n",
      "--+---------+---------+---------+---------+--\n",
      "G | GTT V   | GCT A   | GAT D   | GGT G   | T\n",
      "G | GTC V   | GCC A   | GAC D   | GGC G   | C\n",
      "G | GTA V   | GCA A   | GAA E   | GGA G   | A\n",
      "G | GTG V(s)| GCG A   | GAG E   | GGG G   | G\n",
      "--+---------+---------+---------+---------+--\n"
     ]
    }
   ],
   "source": [
    "#See how the codon table (mito_table) looks like\n",
    "\n",
    "mito_table = CodonTable.unambiguous_dna_by_name[\"Vertebrate Mitochondrial\"]\n",
    "print(mito_table)"
   ]
  },
  {
   "cell_type": "markdown",
   "metadata": {},
   "source": [
    "### Function: translate sequences"
   ]
  },
  {
   "cell_type": "code",
   "execution_count": 7,
   "metadata": {
    "collapsed": true
   },
   "outputs": [],
   "source": [
    "#takewhile() make an iterator that returns elements from the iterable as long as the predicate is true.Use it to leave the stop codon off\n",
    "\n",
    "from itertools import takewhile\n",
    "def string_translate(string_nucleotides, stop_codons = ('TAA', 'TAG', 'AGA', 'AGG')):\n",
    "    mito_table = CodonTable.unambiguous_dna_by_name[\"Vertebrate Mitochondrial\"] \n",
    "    codon = [string_nucleotides[i:i+3] for i in range(0, len(string_nucleotides), 3)] \n",
    "    coding_sequence  =  takewhile(lambda x: x not in stop_codons, codon) \n",
    "    aa_sequence_string = ''.join([mito_table.forward_table[codon] for codon in coding_sequence]) \n",
    "    return(aa_sequence_string)"
   ]
  },
  {
   "cell_type": "markdown",
   "metadata": {},
   "source": [
    "### Test"
   ]
  },
  {
   "cell_type": "code",
   "execution_count": 8,
   "metadata": {
    "collapsed": false
   },
   "outputs": [
    {
     "data": {
      "text/plain": [
       "'MSGAGKKIADVAFKAS'"
      ]
     },
     "execution_count": 8,
     "metadata": {},
     "output_type": "execute_result"
    }
   ],
   "source": [
    "string_translate(sample, stop_codons = ('TAA', 'TAG', 'AGA', 'AGG'))"
   ]
  },
  {
   "cell_type": "markdown",
   "metadata": {},
   "source": [
    "## 3. Write an alternative function: translate sequences"
   ]
  },
  {
   "cell_type": "code",
   "execution_count": 9,
   "metadata": {
    "collapsed": true
   },
   "outputs": [],
   "source": [
    "# notice that IUPAC alphabets only recognize the upper case sequences\n",
    "\n",
    "from Bio.Seq import Seq\n",
    "from Bio.Alphabet import IUPAC"
   ]
  },
  {
   "cell_type": "markdown",
   "metadata": {},
   "source": [
    "### Function: translate sequences"
   ]
  },
  {
   "cell_type": "code",
   "execution_count": 10,
   "metadata": {
    "collapsed": true
   },
   "outputs": [],
   "source": [
    "def string_translate_alt(string_nucleotides):\n",
    "    coding_dna = Seq(string_nucleotides, IUPAC.unambiguous_dna) \n",
    "    return coding_dna.translate(table=\"Vertebrate Mitochondrial\", to_stop=True)"
   ]
  },
  {
   "cell_type": "markdown",
   "metadata": {},
   "source": [
    "### Test"
   ]
  },
  {
   "cell_type": "code",
   "execution_count": 11,
   "metadata": {
    "collapsed": false,
    "scrolled": true
   },
   "outputs": [
    {
     "data": {
      "text/plain": [
       "Seq('MSGAGKKIADVAFKAS', IUPACProtein())"
      ]
     },
     "execution_count": 11,
     "metadata": {},
     "output_type": "execute_result"
    }
   ],
   "source": [
    "string_translate_alt(sample)"
   ]
  },
  {
   "cell_type": "markdown",
   "metadata": {},
   "source": [
    "## 4. Write a function: count amino acid"
   ]
  },
  {
   "cell_type": "code",
   "execution_count": 12,
   "metadata": {
    "collapsed": true
   },
   "outputs": [],
   "source": [
    "sample = string_translate(sample, stop_codons = ('TAA', 'TAG', 'AGA', 'AGG'))"
   ]
  },
  {
   "cell_type": "markdown",
   "metadata": {},
   "source": [
    "### Function: count amino acid"
   ]
  },
  {
   "cell_type": "code",
   "execution_count": 13,
   "metadata": {
    "collapsed": true
   },
   "outputs": [],
   "source": [
    "charged = ['R','K','D','E']\n",
    "hydrophobic = ['A','I','L','F','V','P','G'] \n",
    "polar = ['Q','N','H','S','T','Y','C','M','W']"
   ]
  },
  {
   "cell_type": "code",
   "execution_count": 14,
   "metadata": {
    "collapsed": true
   },
   "outputs": [],
   "source": [
    "#define the function, taking the amino acid sequence and the residues as arguments\n",
    "#make the initial count is zero\n",
    "#for-loop works on each amino acid in the sequence\n",
    "#if the amino acid in the sequence matches the specified residue, \n",
    "#add one to the count\n",
    "#return the count (matching amino acids/total number of amino acids) \n",
    "\n",
    "def get_proportion_aa(aa_seq, residues): \n",
    "    count = 0 \n",
    "    for aa in aa_seq: \n",
    "        if aa in residues: \n",
    "            count += 1 \n",
    "    return count/len(aa_seq)"
   ]
  },
  {
   "cell_type": "markdown",
   "metadata": {},
   "source": [
    "### Test"
   ]
  },
  {
   "cell_type": "code",
   "execution_count": 15,
   "metadata": {
    "collapsed": false
   },
   "outputs": [
    {
     "name": "stdout",
     "output_type": "stream",
     "text": [
      "0.25 0.5625 0.1875\n"
     ]
    }
   ],
   "source": [
    "#Test if the function work correctly\n",
    "\n",
    "charged_number = get_proportion_aa(sample, charged) \n",
    "hydrophobic_number = get_proportion_aa(sample, hydrophobic)\n",
    "polar_number = get_proportion_aa(sample, polar)\n",
    "print(charged_number, hydrophobic_number, polar_number)"
   ]
  },
  {
   "cell_type": "markdown",
   "metadata": {},
   "source": [
    "## 5. Write a for-loop"
   ]
  },
  {
   "cell_type": "code",
   "execution_count": 16,
   "metadata": {
    "collapsed": true
   },
   "outputs": [],
   "source": [
    "cytb_seqs = get_sequences_from_file(\"bears_cytb.fasta\") \n",
    "\n",
    "Bear_df = pd.read_csv(\"bears_data.csv\") \n",
    "species_list = list(Bear_df.species)"
   ]
  },
  {
   "cell_type": "code",
   "execution_count": 17,
   "metadata": {
    "collapsed": false
   },
   "outputs": [
    {
     "name": "stdout",
     "output_type": "stream",
     "text": [
      "                  species     mass  charged  polar  hydrophobic\n",
      "0          Ursus spelaeus  550.800      NaN    NaN          NaN\n",
      "1            Ursus arctos  203.500      NaN    NaN          NaN\n",
      "2        Ursus thibetanus   99.714      NaN    NaN          NaN\n",
      "3        Melursus ursinus  100.030      NaN    NaN          NaN\n",
      "4        Ursus americanus  110.560      NaN    NaN          NaN\n",
      "5     Helarctos malayanus   47.020      NaN    NaN          NaN\n",
      "6  Ailuropoda melanoleuca  118.200      NaN    NaN          NaN\n",
      "7      Tremarctos ornatus  140.700      NaN    NaN          NaN\n",
      "8         Ursus maritimus  425.100      NaN    NaN          NaN\n"
     ]
    }
   ],
   "source": [
    "print(Bear_df)"
   ]
  },
  {
   "cell_type": "markdown",
   "metadata": {},
   "source": [
    "### Function: "
   ]
  },
  {
   "cell_type": "code",
   "execution_count": 18,
   "metadata": {
    "collapsed": true
   },
   "outputs": [],
   "source": [
    "def combined_function(x, sample_dict): \n",
    "    translate = string_translate_alt(str(sample_dict[x])) \n",
    "    proportion_charged = get_proportion_aa(translate, charged) \n",
    "    proportion_polar = get_proportion_aa(translate, polar)\n",
    "    proportion_hydrophobic = get_proportion_aa(translate, hydrophobic)\n",
    "    return proportion_charged, proportion_polar, proportion_hydrophobic"
   ]
  },
  {
   "cell_type": "code",
   "execution_count": 19,
   "metadata": {
    "collapsed": false
   },
   "outputs": [],
   "source": [
    "Bear_df[['charged', 'polar', 'hydrophobic']] = Bear_df.apply(lambda row: pd.Series(combined_function(row['species'], cytb_seqs)), axis = 1)"
   ]
  },
  {
   "cell_type": "code",
   "execution_count": 20,
   "metadata": {
    "collapsed": false
   },
   "outputs": [
    {
     "name": "stdout",
     "output_type": "stream",
     "text": [
      "                  species     mass   charged     polar  hydrophobic\n",
      "0          Ursus spelaeus  550.800  0.092348  0.329815     0.577836\n",
      "1            Ursus arctos  203.500  0.092348  0.324538     0.583113\n",
      "2        Ursus thibetanus   99.714  0.092348  0.327177     0.580475\n",
      "3        Melursus ursinus  100.030  0.089710  0.340369     0.569921\n",
      "4        Ursus americanus  110.560  0.089710  0.337731     0.572559\n",
      "5     Helarctos malayanus   47.020  0.092348  0.340369     0.567282\n",
      "6  Ailuropoda melanoleuca  118.200  0.089710  0.343008     0.567282\n",
      "7      Tremarctos ornatus  140.700  0.089710  0.335092     0.575198\n",
      "8         Ursus maritimus  425.100  0.092348  0.327177     0.580475\n"
     ]
    }
   ],
   "source": [
    "print(Bear_df)"
   ]
  },
  {
   "cell_type": "markdown",
   "metadata": {},
   "source": [
    "## 6. Plot: mass of species"
   ]
  },
  {
   "cell_type": "code",
   "execution_count": 21,
   "metadata": {
    "collapsed": true
   },
   "outputs": [],
   "source": [
    "import pandas as pd\n",
    "from ggplot import *\n",
    "%matplotlib inline"
   ]
  },
  {
   "cell_type": "code",
   "execution_count": 22,
   "metadata": {
    "collapsed": false,
    "scrolled": true
   },
   "outputs": [
    {
     "name": "stdout",
     "output_type": "stream",
     "text": [
      "                  species     mass   charged     polar  hydrophobic\n",
      "0          Ursus spelaeus  550.800  0.092348  0.329815     0.577836\n",
      "1            Ursus arctos  203.500  0.092348  0.324538     0.583113\n",
      "2        Ursus thibetanus   99.714  0.092348  0.327177     0.580475\n",
      "3        Melursus ursinus  100.030  0.089710  0.340369     0.569921\n",
      "4        Ursus americanus  110.560  0.089710  0.337731     0.572559\n",
      "5     Helarctos malayanus   47.020  0.092348  0.340369     0.567282\n",
      "6  Ailuropoda melanoleuca  118.200  0.089710  0.343008     0.567282\n",
      "7      Tremarctos ornatus  140.700  0.089710  0.335092     0.575198\n",
      "8         Ursus maritimus  425.100  0.092348  0.327177     0.580475\n"
     ]
    }
   ],
   "source": [
    "print(Bear_df)"
   ]
  },
  {
   "cell_type": "markdown",
   "metadata": {},
   "source": [
    "### Pandas"
   ]
  },
  {
   "cell_type": "code",
   "execution_count": 23,
   "metadata": {
    "collapsed": false,
    "scrolled": false
   },
   "outputs": [
    {
     "data": {
      "text/plain": [
       "<matplotlib.text.Text at 0x1e58159d240>"
      ]
     },
     "execution_count": 23,
     "metadata": {},
     "output_type": "execute_result"
    },
    {
     "data": {
      "image/png": "[encoded data removed]",
      "text/plain": [
       "<matplotlib.figure.Figure at 0x1e581564080>"
      ]
     },
     "metadata": {},
     "output_type": "display_data"
    }
   ],
   "source": [
    "bear_Mass = Bear_df.plot(x = 'species', y = 'mass', kind='bar', legend = False, title = \"Species Mass\")\n",
    "bear_Mass.set_xlabel(\"Species ID\")\n",
    "bear_Mass.set_ylabel(\"Weight\")"
   ]
  },
  {
   "cell_type": "markdown",
   "metadata": {},
   "source": [
    "### Seaborn"
   ]
  },
  {
   "cell_type": "code",
   "execution_count": 24,
   "metadata": {
    "collapsed": false,
    "scrolled": true
   },
   "outputs": [
    {
     "data": {
      "image/png": "[encoded data removed]",
      "text/plain": [
       "<matplotlib.figure.Figure at 0x1e581564208>"
      ]
     },
     "metadata": {},
     "output_type": "display_data"
    }
   ],
   "source": [
    "import seaborn as sns\n",
    "sea_bear_weight = sns.barplot(x = 'species', y = 'mass', data=Bear_df, palette=\"pastel\")  \n",
    "sea_bear_weight.set(xlabel='Species', ylabel='Weight')\n",
    "for item in sea_bear_weight.get_xticklabels(): \n",
    "    item.set_rotation(65)"
   ]
  },
  {
   "cell_type": "markdown",
   "metadata": {},
   "source": [
    "The extincted *Ursus spelaeus* (cave bear) is the largest bear species, whereas the threatened *Ursus maritimus* (Polar Bear) is the second largest bear species."
   ]
  },
  {
   "cell_type": "markdown",
   "metadata": {},
   "source": [
    "## 7. Plot: proportions for amino acid type"
   ]
  },
  {
   "cell_type": "markdown",
   "metadata": {},
   "source": [
    "### Pandas"
   ]
  },
  {
   "cell_type": "code",
   "execution_count": 25,
   "metadata": {
    "collapsed": false
   },
   "outputs": [
    {
     "name": "stdout",
     "output_type": "stream",
     "text": [
      "                  species   charged     polar  hydrophobic\n",
      "0          Ursus spelaeus  0.092348  0.329815     0.577836\n",
      "1            Ursus arctos  0.092348  0.324538     0.583113\n",
      "2        Ursus thibetanus  0.092348  0.327177     0.580475\n",
      "3        Melursus ursinus  0.089710  0.340369     0.569921\n",
      "4        Ursus americanus  0.089710  0.337731     0.572559\n",
      "5     Helarctos malayanus  0.092348  0.340369     0.567282\n",
      "6  Ailuropoda melanoleuca  0.089710  0.343008     0.567282\n",
      "7      Tremarctos ornatus  0.089710  0.335092     0.575198\n",
      "8         Ursus maritimus  0.092348  0.327177     0.580475\n"
     ]
    }
   ],
   "source": [
    "bear2 = Bear_df[['species', 'charged', 'polar', 'hydrophobic']]\n",
    "print(bear2)"
   ]
  },
  {
   "cell_type": "code",
   "execution_count": 26,
   "metadata": {
    "collapsed": false
   },
   "outputs": [
    {
     "data": {
      "text/plain": [
       "<matplotlib.legend.Legend at 0x1e5818234a8>"
      ]
     },
     "execution_count": 26,
     "metadata": {},
     "output_type": "execute_result"
    },
    {
     "data": {
      "image/png": "[encoded data removed]",
      "text/plain": [
       "<matplotlib.figure.Figure at 0x1e58181ea90>"
      ]
     },
     "metadata": {},
     "output_type": "display_data"
    }
   ],
   "source": [
    "pandas_plot = bear2.plot(x = 'species', kind='bar',stacked=True,title=\"Proportion of Amino Acid Types\")\n",
    "pandas_plot.set_ylabel(\"Proportion\") \n",
    "pandas_plot.set_xlabel(\"Species\") \n",
    "pandas_plot.legend(loc='center left', bbox_to_anchor=(1, 0.8))"
   ]
  },
  {
   "cell_type": "markdown",
   "metadata": {},
   "source": [
    "### Bokeh"
   ]
  },
  {
   "cell_type": "code",
   "execution_count": 27,
   "metadata": {
    "collapsed": true
   },
   "outputs": [],
   "source": [
    "from bokeh.charts import Bar, output_file, show \n",
    "from bokeh.charts.attributes import cat, color\n",
    "from bokeh.charts.operations import blend"
   ]
  },
  {
   "cell_type": "code",
   "execution_count": 28,
   "metadata": {
    "collapsed": false
   },
   "outputs": [
    {
     "data": {
      "text/html": [
       "\n",
       "    <div class=\"bk-root\">\n",
       "        <a href=\"http://bokeh.pydata.org\" target=\"_blank\" class=\"bk-logo bk-logo-small bk-logo-notebook\"></a>\n",
       "        <span id=\"3e2e6807-c59d-42e6-a746-b7d86d6c4129\">Loading BokehJS ...</span>\n",
       "    </div>"
      ]
     },
     "metadata": {},
     "output_type": "display_data"
    },
    {
     "data": {
      "application/javascript": [
       "\n",
       "(function(global) {\n",
       "  function now() {\n",
       "    return new Date();\n",
       "  }\n",
       "\n",
       "  var force = true;\n",
       "\n",
       "  if (typeof (window._bokeh_onload_callbacks) === \"undefined\" || force === true) {\n",
       "    window._bokeh_onload_callbacks = [];\n",
       "    window._bokeh_is_loading = undefined;\n",
       "  }\n",
       "\n",
       "\n",
       "  \n",
       "  if (typeof (window._bokeh_timeout) === \"undefined\" || force === true) {\n",
       "    window._bokeh_timeout = Date.now() + 5000;\n",
       "    window._bokeh_failed_load = false;\n",
       "  }\n",
       "\n",
       "  var NB_LOAD_WARNING = {'data': {'text/html':\n",
       "     \"<div style='background-color: #fdd'>\\n\"+\n",
       "     \"<p>\\n\"+\n",
       "     \"BokehJS does not appear to have successfully loaded. If loading BokehJS from CDN, this \\n\"+\n",
       "     \"may be due to a slow or bad network connection. Possible fixes:\\n\"+\n",
       "     \"</p>\\n\"+\n",
       "     \"<ul>\\n\"+\n",
       "     \"<li>re-rerun `output_notebook()` to attempt to load from CDN again, or</li>\\n\"+\n",
       "     \"<li>use INLINE resources instead, as so:</li>\\n\"+\n",
       "     \"</ul>\\n\"+\n",
       "     \"<code>\\n\"+\n",
       "     \"from bokeh.resources import INLINE\\n\"+\n",
       "     \"output_notebook(resources=INLINE)\\n\"+\n",
       "     \"</code>\\n\"+\n",
       "     \"</div>\"}};\n",
       "\n",
       "  function display_loaded() {\n",
       "    if (window.Bokeh !== undefined) {\n",
       "      document.getElementById(\"3e2e6807-c59d-42e6-a746-b7d86d6c4129\").textContent = \"BokehJS successfully loaded.\";\n",
       "    } else if (Date.now() < window._bokeh_timeout) {\n",
       "      setTimeout(display_loaded, 100)\n",
       "    }\n",
       "  }\n",
       "\n",
       "  function run_callbacks() {\n",
       "    window._bokeh_onload_callbacks.forEach(function(callback) { callback() });\n",
       "    delete window._bokeh_onload_callbacks\n",
       "    console.info(\"Bokeh: all callbacks have finished\");\n",
       "  }\n",
       "\n",
       "  function load_libs(js_urls, callback) {\n",
       "    window._bokeh_onload_callbacks.push(callback);\n",
       "    if (window._bokeh_is_loading > 0) {\n",
       "      console.log(\"Bokeh: BokehJS is being loaded, scheduling callback at\", now());\n",
       "      return null;\n",
       "    }\n",
       "    if (js_urls == null || js_urls.length === 0) {\n",
       "      run_callbacks();\n",
       "      return null;\n",
       "    }\n",
       "    console.log(\"Bokeh: BokehJS not loaded, scheduling load and callback at\", now());\n",
       "    window._bokeh_is_loading = js_urls.length;\n",
       "    for (var i = 0; i < js_urls.length; i++) {\n",
       "      var url = js_urls[i];\n",
       "      var s = document.createElement('script');\n",
       "      s.src = url;\n",
       "      s.async = false;\n",
       "      s.onreadystatechange = s.onload = function() {\n",
       "        window._bokeh_is_loading--;\n",
       "        if (window._bokeh_is_loading === 0) {\n",
       "          console.log(\"Bokeh: all BokehJS libraries loaded\");\n",
       "          run_callbacks()\n",
       "        }\n",
       "      };\n",
       "      s.onerror = function() {\n",
       "        console.warn(\"failed to load library \" + url);\n",
       "      };\n",
       "      console.log(\"Bokeh: injecting script tag for BokehJS library: \", url);\n",
       "      document.getElementsByTagName(\"head\")[0].appendChild(s);\n",
       "    }\n",
       "  };var element = document.getElementById(\"3e2e6807-c59d-42e6-a746-b7d86d6c4129\");\n",
       "  if (element == null) {\n",
       "    console.log(\"Bokeh: ERROR: autoload.js configured with elementid '3e2e6807-c59d-42e6-a746-b7d86d6c4129' but no matching script tag was found. \")\n",
       "    return false;\n",
       "  }\n",
       "\n",
       "  var js_urls = [\"https://cdn.pydata.org/bokeh/release/bokeh-0.12.4.min.js\", \"https://cdn.pydata.org/bokeh/release/bokeh-widgets-0.12.4.min.js\"];\n",
       "\n",
       "  var inline_js = [\n",
       "    function(Bokeh) {\n",
       "      Bokeh.set_log_level(\"info\");\n",
       "    },\n",
       "    \n",
       "    function(Bokeh) {\n",
       "      \n",
       "      document.getElementById(\"3e2e6807-c59d-42e6-a746-b7d86d6c4129\").textContent = \"BokehJS is loading...\";\n",
       "    },\n",
       "    function(Bokeh) {\n",
       "      console.log(\"Bokeh: injecting CSS: https://cdn.pydata.org/bokeh/release/bokeh-0.12.4.min.css\");\n",
       "      Bokeh.embed.inject_css(\"https://cdn.pydata.org/bokeh/release/bokeh-0.12.4.min.css\");\n",
       "      console.log(\"Bokeh: injecting CSS: https://cdn.pydata.org/bokeh/release/bokeh-widgets-0.12.4.min.css\");\n",
       "      Bokeh.embed.inject_css(\"https://cdn.pydata.org/bokeh/release/bokeh-widgets-0.12.4.min.css\");\n",
       "    }\n",
       "  ];\n",
       "\n",
       "  function run_inline_js() {\n",
       "    \n",
       "    if ((window.Bokeh !== undefined) || (force === true)) {\n",
       "      for (var i = 0; i < inline_js.length; i++) {\n",
       "        inline_js[i](window.Bokeh);\n",
       "      }if (force === true) {\n",
       "        display_loaded();\n",
       "      }} else if (Date.now() < window._bokeh_timeout) {\n",
       "      setTimeout(run_inline_js, 100);\n",
       "    } else if (!window._bokeh_failed_load) {\n",
       "      console.log(\"Bokeh: BokehJS failed to load within specified timeout.\");\n",
       "      window._bokeh_failed_load = true;\n",
       "    } else if (force !== true) {\n",
       "      var cell = $(document.getElementById(\"3e2e6807-c59d-42e6-a746-b7d86d6c4129\")).parents('.cell').data().cell;\n",
       "      cell.output_area.append_execute_result(NB_LOAD_WARNING)\n",
       "    }\n",
       "\n",
       "  }\n",
       "\n",
       "  if (window._bokeh_is_loading === 0) {\n",
       "    console.log(\"Bokeh: BokehJS loaded, going straight to plotting\");\n",
       "    run_inline_js();\n",
       "  } else {\n",
       "    load_libs(js_urls, function() {\n",
       "      console.log(\"Bokeh: BokehJS plotting callback run at\", now());\n",
       "      run_inline_js();\n",
       "    });\n",
       "  }\n",
       "}(this));"
      ]
     },
     "metadata": {},
     "output_type": "display_data"
    }
   ],
   "source": [
    "from bokeh.io import push_notebook, show, output_notebook\n",
    "output_notebook()"
   ]
  },
  {
   "cell_type": "code",
   "execution_count": 29,
   "metadata": {
    "collapsed": false
   },
   "outputs": [],
   "source": [
    "proportions = Bar(Bear_df,\n",
    "          values=blend('charged', 'polar', 'hydrophobic', name='Proportions', labels_name='proportion'), \n",
    "          label=cat(columns='species', sort=False), \n",
    "          stack=cat(columns='proportion', sort=False),\n",
    "          color=color(columns='proportion', palette=['yellow', 'red', 'pink'], \n",
    "                      sort=False),\n",
    "          legend='top_right', \n",
    "          title=\"Proportion of Amino Acid Types\")"
   ]
  },
  {
   "cell_type": "code",
   "execution_count": 30,
   "metadata": {
    "collapsed": false,
    "scrolled": true
   },
   "outputs": [
    {
     "data": {
      "text/html": [
       "\n",
       "\n",
       "    <div class=\"bk-root\">\n",
       "        <div class=\"bk-plotdiv\" id=\"a0c83844-f82d-4fe5-9812-28adbe7e98ae\"></div>\n",
       "    </div>\n",
       "<script type=\"text/javascript\">\n",
       "  \n",
       "  (function(global) {\n",
       "    function now() {\n",
       "      return new Date();\n",
       "    }\n",
       "  \n",
       "    var force = false;\n",
       "  \n",
       "    if (typeof (window._bokeh_onload_callbacks) === \"undefined\" || force === true) {\n",
       "      window._bokeh_onload_callbacks = [];\n",
       "      window._bokeh_is_loading = undefined;\n",
       "    }\n",
       "  \n",
       "  \n",
       "    \n",
       "    if (typeof (window._bokeh_timeout) === \"undefined\" || force === true) {\n",
       "      window._bokeh_timeout = Date.now() + 0;\n",
       "      window._bokeh_failed_load = false;\n",
       "    }\n",
       "  \n",
       "    var NB_LOAD_WARNING = {'data': {'text/html':\n",
       "       \"<div style='background-color: #fdd'>\\n\"+\n",
       "       \"<p>\\n\"+\n",
       "       \"BokehJS does not appear to have successfully loaded. If loading BokehJS from CDN, this \\n\"+\n",
       "       \"may be due to a slow or bad network connection. Possible fixes:\\n\"+\n",
       "       \"</p>\\n\"+\n",
       "       \"<ul>\\n\"+\n",
       "       \"<li>re-rerun `output_notebook()` to attempt to load from CDN again, or</li>\\n\"+\n",
       "       \"<li>use INLINE resources instead, as so:</li>\\n\"+\n",
       "       \"</ul>\\n\"+\n",
       "       \"<code>\\n\"+\n",
       "       \"from bokeh.resources import INLINE\\n\"+\n",
       "       \"output_notebook(resources=INLINE)\\n\"+\n",
       "       \"</code>\\n\"+\n",
       "       \"</div>\"}};\n",
       "  \n",
       "    function display_loaded() {\n",
       "      if (window.Bokeh !== undefined) {\n",
       "        document.getElementById(\"a0c83844-f82d-4fe5-9812-28adbe7e98ae\").textContent = \"BokehJS successfully loaded.\";\n",
       "      } else if (Date.now() < window._bokeh_timeout) {\n",
       "        setTimeout(display_loaded, 100)\n",
       "      }\n",
       "    }\n",
       "  \n",
       "    function run_callbacks() {\n",
       "      window._bokeh_onload_callbacks.forEach(function(callback) { callback() });\n",
       "      delete window._bokeh_onload_callbacks\n",
       "      console.info(\"Bokeh: all callbacks have finished\");\n",
       "    }\n",
       "  \n",
       "    function load_libs(js_urls, callback) {\n",
       "      window._bokeh_onload_callbacks.push(callback);\n",
       "      if (window._bokeh_is_loading > 0) {\n",
       "        console.log(\"Bokeh: BokehJS is being loaded, scheduling callback at\", now());\n",
       "        return null;\n",
       "      }\n",
       "      if (js_urls == null || js_urls.length === 0) {\n",
       "        run_callbacks();\n",
       "        return null;\n",
       "      }\n",
       "      console.log(\"Bokeh: BokehJS not loaded, scheduling load and callback at\", now());\n",
       "      window._bokeh_is_loading = js_urls.length;\n",
       "      for (var i = 0; i < js_urls.length; i++) {\n",
       "        var url = js_urls[i];\n",
       "        var s = document.createElement('script');\n",
       "        s.src = url;\n",
       "        s.async = false;\n",
       "        s.onreadystatechange = s.onload = function() {\n",
       "          window._bokeh_is_loading--;\n",
       "          if (window._bokeh_is_loading === 0) {\n",
       "            console.log(\"Bokeh: all BokehJS libraries loaded\");\n",
       "            run_callbacks()\n",
       "          }\n",
       "        };\n",
       "        s.onerror = function() {\n",
       "          console.warn(\"failed to load library \" + url);\n",
       "        };\n",
       "        console.log(\"Bokeh: injecting script tag for BokehJS library: \", url);\n",
       "        document.getElementsByTagName(\"head\")[0].appendChild(s);\n",
       "      }\n",
       "    };var element = document.getElementById(\"a0c83844-f82d-4fe5-9812-28adbe7e98ae\");\n",
       "    if (element == null) {\n",
       "      console.log(\"Bokeh: ERROR: autoload.js configured with elementid 'a0c83844-f82d-4fe5-9812-28adbe7e98ae' but no matching script tag was found. \")\n",
       "      return false;\n",
       "    }\n",
       "  \n",
       "    var js_urls = [];\n",
       "  \n",
       "    var inline_js = [\n",
       "      function(Bokeh) {\n",
       "        (function() {\n",
       "          var fn = function() {\n",
       "            var docs_json = {\"42b9e020-d955-469a-a2fa-aecc15ae5b66\":{\"roots\":{\"references\":[{\"attributes\":{},\"id\":\"0fccefd4-dc53-4b79-b9d7-c7f7743691a5\",\"type\":\"CategoricalTicker\"},{\"attributes\":{},\"id\":\"63280884-f631-4202-ac4e-f47c232083ad\",\"type\":\"CategoricalTickFormatter\"},{\"attributes\":{},\"id\":\"4b887b32-0fd5-4ce7-a2c6-9119988fef67\",\"type\":\"BasicTickFormatter\"},{\"attributes\":{\"plot\":null,\"text\":\"Proportion of Amino Acid Types\"},\"id\":\"d6476da1-12dd-4d17-be4a-6345e9368add\",\"type\":\"Title\"},{\"attributes\":{\"fill_alpha\":{\"field\":\"fill_alpha\"},\"fill_color\":{\"field\":\"color\"},\"height\":{\"field\":\"height\",\"units\":\"data\"},\"line_color\":{\"field\":\"line_color\"},\"width\":{\"field\":\"width\",\"units\":\"data\"},\"x\":{\"field\":\"x\"},\"y\":{\"field\":\"y\"}},\"id\":\"6502fd66-eab5-4a02-9d5c-223202acb71b\",\"type\":\"Rect\"},{\"attributes\":{\"active_drag\":\"auto\",\"active_scroll\":\"auto\",\"active_tap\":\"auto\",\"tools\":[{\"id\":\"e435c0f2-1053-4b06-83a3-52a34a5f43bb\",\"type\":\"PanTool\"},{\"id\":\"6970adc4-4034-41fe-be55-18f811765609\",\"type\":\"WheelZoomTool\"},{\"id\":\"dcd449ba-ee5c-4267-a072-f30e60590bb2\",\"type\":\"BoxZoomTool\"},{\"id\":\"109e3379-45b4-4a25-a652-4aafd98df45e\",\"type\":\"SaveTool\"},{\"id\":\"0aa63f7d-3305-43bc-b738-7b942a8ec88c\",\"type\":\"ResetTool\"},{\"id\":\"6a73960b-073e-4319-9746-c72114cb11b0\",\"type\":\"HelpTool\"}]},\"id\":\"3fabd0fd-f9b4-4f37-9d13-35e3c151c545\",\"type\":\"Toolbar\"},{\"attributes\":{\"data_source\":{\"id\":\"c97169a0-c017-4a74-be60-0c3e115a33cb\",\"type\":\"ColumnDataSource\"},\"glyph\":{\"id\":\"0dc399ef-deb5-4a0c-9a00-c638aef6022a\",\"type\":\"Rect\"},\"hover_glyph\":null,\"nonselection_glyph\":null,\"selection_glyph\":null},\"id\":\"e43676ed-6f7a-4f9b-ae28-2c81d3db6937\",\"type\":\"GlyphRenderer\"},{\"attributes\":{\"bottom_units\":\"screen\",\"fill_alpha\":{\"value\":0.5},\"fill_color\":{\"value\":\"lightgrey\"},\"left_units\":\"screen\",\"level\":\"overlay\",\"line_alpha\":{\"value\":1.0},\"line_color\":{\"value\":\"black\"},\"line_dash\":[4,4],\"line_width\":{\"value\":2},\"plot\":null,\"render_mode\":\"css\",\"right_units\":\"screen\",\"top_units\":\"screen\"},\"id\":\"ddeb2873-6682-40f7-8743-57bf5845fbba\",\"type\":\"BoxAnnotation\"},{\"attributes\":{\"callback\":null,\"column_names\":[\"x\",\"y\",\"width\",\"height\",\"color\",\"fill_alpha\",\"line_color\",\"line_alpha\",\"label\"],\"data\":{\"chart_index\":[{\"proportion\":\"charged\",\"species\":\"Ursus maritimus\"}],\"color\":[\"yellow\"],\"fill_alpha\":[0.8],\"height\":[0.09234828496042216],\"label\":[{\"proportion\":\"charged\",\"species\":\"Ursus maritimus\"}],\"line_alpha\":[1.0],\"line_color\":[\"white\"],\"proportion\":[\"charged\"],\"species\":[\"Ursus maritimus\"],\"width\":[0.8],\"x\":[\"Ursus maritimus\"],\"y\":[0.04617414248021108]}},\"id\":\"639535d0-ddd3-4f43-a276-dcd089a60923\",\"type\":\"ColumnDataSource\"},{\"attributes\":{\"fill_alpha\":{\"field\":\"fill_alpha\"},\"fill_color\":{\"field\":\"color\"},\"height\":{\"field\":\"height\",\"units\":\"data\"},\"line_color\":{\"field\":\"line_color\"},\"width\":{\"field\":\"width\",\"units\":\"data\"},\"x\":{\"field\":\"x\"},\"y\":{\"field\":\"y\"}},\"id\":\"684adf8d-a389-405e-8ac5-fbc694415409\",\"type\":\"Rect\"},{\"attributes\":{\"callback\":null,\"column_names\":[\"x\",\"y\",\"width\",\"height\",\"color\",\"fill_alpha\",\"line_color\",\"line_alpha\",\"label\"],\"data\":{\"chart_index\":[{\"proportion\":\"charged\",\"species\":\"Ailuropoda melanoleuca\"}],\"color\":[\"yellow\"],\"fill_alpha\":[0.8],\"height\":[0.08970976253298153],\"label\":[{\"proportion\":\"charged\",\"species\":\"Ailuropoda melanoleuca\"}],\"line_alpha\":[1.0],\"line_color\":[\"white\"],\"proportion\":[\"charged\"],\"species\":[\"Ailuropoda melanoleuca\"],\"width\":[0.8],\"x\":[\"Ailuropoda melanoleuca\"],\"y\":[0.044854881266490766]}},\"id\":\"b6d070d5-f1ea-4535-b7c0-d6d123d3b766\",\"type\":\"ColumnDataSource\"},{\"attributes\":{\"data_source\":{\"id\":\"b6d070d5-f1ea-4535-b7c0-d6d123d3b766\",\"type\":\"ColumnDataSource\"},\"glyph\":{\"id\":\"56ed5b71-e9ce-47f8-8933-948e3c3bb0a1\",\"type\":\"Rect\"},\"hover_glyph\":null,\"nonselection_glyph\":null,\"selection_glyph\":null},\"id\":\"dec48505-1390-48b4-b997-4fa6fb6f2c35\",\"type\":\"GlyphRenderer\"},{\"attributes\":{\"fill_alpha\":{\"field\":\"fill_alpha\"},\"fill_color\":{\"field\":\"color\"},\"height\":{\"field\":\"height\",\"units\":\"data\"},\"line_color\":{\"field\":\"line_color\"},\"width\":{\"field\":\"width\",\"units\":\"data\"},\"x\":{\"field\":\"x\"},\"y\":{\"field\":\"y\"}},\"id\":\"1b5e9ebd-5f9c-45a2-ae71-96aa41e45aa2\",\"type\":\"Rect\"},{\"attributes\":{\"plot\":{\"id\":\"f47c03b6-4565-417e-8a0c-dc6e0ffa071c\",\"subtype\":\"Chart\",\"type\":\"Plot\"}},\"id\":\"e435c0f2-1053-4b06-83a3-52a34a5f43bb\",\"type\":\"PanTool\"},{\"attributes\":{\"fill_alpha\":{\"field\":\"fill_alpha\"},\"fill_color\":{\"field\":\"color\"},\"height\":{\"field\":\"height\",\"units\":\"data\"},\"line_color\":{\"field\":\"line_color\"},\"width\":{\"field\":\"width\",\"units\":\"data\"},\"x\":{\"field\":\"x\"},\"y\":{\"field\":\"y\"}},\"id\":\"d5ef4a48-e3c9-435a-ba13-f74c40a897f6\",\"type\":\"Rect\"},{\"attributes\":{\"data_source\":{\"id\":\"7643a7cf-652a-4936-8026-1728c101c192\",\"type\":\"ColumnDataSource\"},\"glyph\":{\"id\":\"a1a0a04b-8b9b-4927-bd44-d86e815abe4a\",\"type\":\"Rect\"},\"hover_glyph\":null,\"nonselection_glyph\":null,\"selection_glyph\":null},\"id\":\"3346c89d-17bc-455e-88c4-6ebba5ee8dc2\",\"type\":\"GlyphRenderer\"},{\"attributes\":{\"data_source\":{\"id\":\"295c0494-db2e-401c-af93-190d62647de7\",\"type\":\"ColumnDataSource\"},\"glyph\":{\"id\":\"4f98fe53-8927-4a5d-b87c-daf240e753d0\",\"type\":\"Rect\"},\"hover_glyph\":null,\"nonselection_glyph\":null,\"selection_glyph\":null},\"id\":\"34132e63-e6e4-46ee-a249-17ef49e8eaee\",\"type\":\"GlyphRenderer\"},{\"attributes\":{\"fill_alpha\":{\"field\":\"fill_alpha\"},\"fill_color\":{\"field\":\"color\"},\"height\":{\"field\":\"height\",\"units\":\"data\"},\"line_color\":{\"field\":\"line_color\"},\"width\":{\"field\":\"width\",\"units\":\"data\"},\"x\":{\"field\":\"x\"},\"y\":{\"field\":\"y\"}},\"id\":\"5c295d25-d7be-45c8-ada4-d90ecd22ddda\",\"type\":\"Rect\"},{\"attributes\":{\"plot\":{\"id\":\"f47c03b6-4565-417e-8a0c-dc6e0ffa071c\",\"subtype\":\"Chart\",\"type\":\"Plot\"}},\"id\":\"6970adc4-4034-41fe-be55-18f811765609\",\"type\":\"WheelZoomTool\"},{\"attributes\":{\"axis_label\":\"Species\",\"formatter\":{\"id\":\"63280884-f631-4202-ac4e-f47c232083ad\",\"type\":\"CategoricalTickFormatter\"},\"major_label_orientation\":0.7853981633974483,\"plot\":{\"id\":\"f47c03b6-4565-417e-8a0c-dc6e0ffa071c\",\"subtype\":\"Chart\",\"type\":\"Plot\"},\"ticker\":{\"id\":\"0fccefd4-dc53-4b79-b9d7-c7f7743691a5\",\"type\":\"CategoricalTicker\"}},\"id\":\"6b804128-6b47-4abb-a67e-8421a0be6a35\",\"type\":\"CategoricalAxis\"},{\"attributes\":{\"overlay\":{\"id\":\"ddeb2873-6682-40f7-8743-57bf5845fbba\",\"type\":\"BoxAnnotation\"},\"plot\":{\"id\":\"f47c03b6-4565-417e-8a0c-dc6e0ffa071c\",\"subtype\":\"Chart\",\"type\":\"Plot\"}},\"id\":\"dcd449ba-ee5c-4267-a072-f30e60590bb2\",\"type\":\"BoxZoomTool\"},{\"attributes\":{\"data_source\":{\"id\":\"68a125f5-d3a5-49ad-b57f-f6d6ab7c164a\",\"type\":\"ColumnDataSource\"},\"glyph\":{\"id\":\"6502fd66-eab5-4a02-9d5c-223202acb71b\",\"type\":\"Rect\"},\"hover_glyph\":null,\"nonselection_glyph\":null,\"selection_glyph\":null},\"id\":\"f78c975f-1a02-41c9-9475-4598938f4c35\",\"type\":\"GlyphRenderer\"},{\"attributes\":{\"plot\":{\"id\":\"f47c03b6-4565-417e-8a0c-dc6e0ffa071c\",\"subtype\":\"Chart\",\"type\":\"Plot\"}},\"id\":\"109e3379-45b4-4a25-a652-4aafd98df45e\",\"type\":\"SaveTool\"},{\"attributes\":{\"callback\":null,\"column_names\":[\"x\",\"y\",\"width\",\"height\",\"color\",\"fill_alpha\",\"line_color\",\"line_alpha\",\"label\"],\"data\":{\"chart_index\":[{\"proportion\":\"charged\",\"species\":\"Tremarctos ornatus\"}],\"color\":[\"yellow\"],\"fill_alpha\":[0.8],\"height\":[0.08970976253298153],\"label\":[{\"proportion\":\"charged\",\"species\":\"Tremarctos ornatus\"}],\"line_alpha\":[1.0],\"line_color\":[\"white\"],\"proportion\":[\"charged\"],\"species\":[\"Tremarctos ornatus\"],\"width\":[0.8],\"x\":[\"Tremarctos ornatus\"],\"y\":[0.044854881266490766]}},\"id\":\"1d26f044-ca63-4d80-bad3-79d173cd4015\",\"type\":\"ColumnDataSource\"},{\"attributes\":{\"plot\":{\"id\":\"f47c03b6-4565-417e-8a0c-dc6e0ffa071c\",\"subtype\":\"Chart\",\"type\":\"Plot\"}},\"id\":\"0aa63f7d-3305-43bc-b738-7b942a8ec88c\",\"type\":\"ResetTool\"},{\"attributes\":{\"plot\":{\"id\":\"f47c03b6-4565-417e-8a0c-dc6e0ffa071c\",\"subtype\":\"Chart\",\"type\":\"Plot\"}},\"id\":\"6a73960b-073e-4319-9746-c72114cb11b0\",\"type\":\"HelpTool\"},{\"attributes\":{\"fill_alpha\":{\"field\":\"fill_alpha\"},\"fill_color\":{\"field\":\"color\"},\"height\":{\"field\":\"height\",\"units\":\"data\"},\"line_color\":{\"field\":\"line_color\"},\"width\":{\"field\":\"width\",\"units\":\"data\"},\"x\":{\"field\":\"x\"},\"y\":{\"field\":\"y\"}},\"id\":\"12815743-2e8e-408e-abbd-8cdaeacbc96d\",\"type\":\"Rect\"},{\"attributes\":{\"data_source\":{\"id\":\"90756ed5-f2c9-4cd5-b7da-1e42d5f67752\",\"type\":\"ColumnDataSource\"},\"glyph\":{\"id\":\"684adf8d-a389-405e-8ac5-fbc694415409\",\"type\":\"Rect\"},\"hover_glyph\":null,\"nonselection_glyph\":null,\"selection_glyph\":null},\"id\":\"a423f32c-fcf2-4b25-aa2b-b35e5d470ab3\",\"type\":\"GlyphRenderer\"},{\"attributes\":{\"callback\":null,\"column_names\":[\"x\",\"y\",\"width\",\"height\",\"color\",\"fill_alpha\",\"line_color\",\"line_alpha\",\"label\"],\"data\":{\"chart_index\":[{\"proportion\":\"polar\",\"species\":\"Ursus thibetanus\"}],\"color\":[\"red\"],\"fill_alpha\":[0.8],\"height\":[0.32717678100263853],\"label\":[{\"proportion\":\"polar\",\"species\":\"Ursus thibetanus\"}],\"line_alpha\":[1.0],\"line_color\":[\"white\"],\"proportion\":[\"polar\"],\"species\":[\"Ursus thibetanus\"],\"width\":[0.8],\"x\":[\"Ursus thibetanus\"],\"y\":[0.2559366754617414]}},\"id\":\"e1cda9e7-f449-48d6-b8c2-04d0ea52a967\",\"type\":\"ColumnDataSource\"},{\"attributes\":{\"fill_alpha\":{\"field\":\"fill_alpha\"},\"fill_color\":{\"field\":\"color\"},\"height\":{\"field\":\"height\",\"units\":\"data\"},\"line_color\":{\"field\":\"line_color\"},\"width\":{\"field\":\"width\",\"units\":\"data\"},\"x\":{\"field\":\"x\"},\"y\":{\"field\":\"y\"}},\"id\":\"1a228023-9b96-4502-b112-b47ea7a8ea65\",\"type\":\"Rect\"},{\"attributes\":{\"label\":{\"value\":\"hydrophobic\"},\"renderers\":[{\"id\":\"a7eb779f-21ec-4d60-94ff-e28ad9f1d21a\",\"type\":\"GlyphRenderer\"}]},\"id\":\"2b533d1c-b9b1-4387-a76b-81b3eab4ed32\",\"type\":\"LegendItem\"},{\"attributes\":{\"data_source\":{\"id\":\"1d26f044-ca63-4d80-bad3-79d173cd4015\",\"type\":\"ColumnDataSource\"},\"glyph\":{\"id\":\"d5ef4a48-e3c9-435a-ba13-f74c40a897f6\",\"type\":\"Rect\"},\"hover_glyph\":null,\"nonselection_glyph\":null,\"selection_glyph\":null},\"id\":\"127d6b77-7da3-4355-9c93-9fc443f65bdf\",\"type\":\"GlyphRenderer\"},{\"attributes\":{\"callback\":null,\"column_names\":[\"x\",\"y\",\"width\",\"height\",\"color\",\"fill_alpha\",\"line_color\",\"line_alpha\",\"label\"],\"data\":{\"chart_index\":[{\"proportion\":\"charged\",\"species\":\"Ursus thibetanus\"}],\"color\":[\"yellow\"],\"fill_alpha\":[0.8],\"height\":[0.09234828496042216],\"label\":[{\"proportion\":\"charged\",\"species\":\"Ursus thibetanus\"}],\"line_alpha\":[1.0],\"line_color\":[\"white\"],\"proportion\":[\"charged\"],\"species\":[\"Ursus thibetanus\"],\"width\":[0.8],\"x\":[\"Ursus thibetanus\"],\"y\":[0.04617414248021108]}},\"id\":\"0d3e8e11-af02-4412-ba6a-0af4f7aefad2\",\"type\":\"ColumnDataSource\"},{\"attributes\":{\"callback\":null,\"column_names\":[\"x\",\"y\",\"width\",\"height\",\"color\",\"fill_alpha\",\"line_color\",\"line_alpha\",\"label\"],\"data\":{\"chart_index\":[{\"proportion\":\"charged\",\"species\":\"Ursus spelaeus\"}],\"color\":[\"yellow\"],\"fill_alpha\":[0.8],\"height\":[0.09234828496042216],\"label\":[{\"proportion\":\"charged\",\"species\":\"Ursus spelaeus\"}],\"line_alpha\":[1.0],\"line_color\":[\"white\"],\"proportion\":[\"charged\"],\"species\":[\"Ursus spelaeus\"],\"width\":[0.8],\"x\":[\"Ursus spelaeus\"],\"y\":[0.04617414248021108]}},\"id\":\"8c705cb5-eab4-4f5c-99ec-173eefd5ba5f\",\"type\":\"ColumnDataSource\"},{\"attributes\":{\"fill_alpha\":{\"field\":\"fill_alpha\"},\"fill_color\":{\"field\":\"color\"},\"height\":{\"field\":\"height\",\"units\":\"data\"},\"line_color\":{\"field\":\"line_color\"},\"width\":{\"field\":\"width\",\"units\":\"data\"},\"x\":{\"field\":\"x\"},\"y\":{\"field\":\"y\"}},\"id\":\"cb1fb7ee-81d5-4fb7-8b45-297b02745f28\",\"type\":\"Rect\"},{\"attributes\":{\"fill_alpha\":{\"field\":\"fill_alpha\"},\"fill_color\":{\"field\":\"color\"},\"height\":{\"field\":\"height\",\"units\":\"data\"},\"line_color\":{\"field\":\"line_color\"},\"width\":{\"field\":\"width\",\"units\":\"data\"},\"x\":{\"field\":\"x\"},\"y\":{\"field\":\"y\"}},\"id\":\"8f0ae27a-7fb6-4476-9daf-33f0a5c190fc\",\"type\":\"Rect\"},{\"attributes\":{\"data_source\":{\"id\":\"255bdc46-1224-47fd-8261-6625a51c6587\",\"type\":\"ColumnDataSource\"},\"glyph\":{\"id\":\"12815743-2e8e-408e-abbd-8cdaeacbc96d\",\"type\":\"Rect\"},\"hover_glyph\":null,\"nonselection_glyph\":null,\"selection_glyph\":null},\"id\":\"038f96be-b555-45a4-92a6-2eeb7d254684\",\"type\":\"GlyphRenderer\"},{\"attributes\":{\"data_source\":{\"id\":\"8c705cb5-eab4-4f5c-99ec-173eefd5ba5f\",\"type\":\"ColumnDataSource\"},\"glyph\":{\"id\":\"5a173346-309c-4cf0-b5ae-1db2757208b6\",\"type\":\"Rect\"},\"hover_glyph\":null,\"nonselection_glyph\":null,\"selection_glyph\":null},\"id\":\"a8a4d863-9597-409c-9f85-86b73357da16\",\"type\":\"GlyphRenderer\"},{\"attributes\":{\"callback\":null,\"column_names\":[\"x\",\"y\",\"width\",\"height\",\"color\",\"fill_alpha\",\"line_color\",\"line_alpha\",\"label\"],\"data\":{\"chart_index\":[{\"proportion\":\"charged\",\"species\":\"Ursus arctos\"}],\"color\":[\"yellow\"],\"fill_alpha\":[0.8],\"height\":[0.09234828496042216],\"label\":[{\"proportion\":\"charged\",\"species\":\"Ursus arctos\"}],\"line_alpha\":[1.0],\"line_color\":[\"white\"],\"proportion\":[\"charged\"],\"species\":[\"Ursus arctos\"],\"width\":[0.8],\"x\":[\"Ursus arctos\"],\"y\":[0.04617414248021108]}},\"id\":\"52e962fd-824b-4e54-82c6-79c49c8d05d2\",\"type\":\"ColumnDataSource\"},{\"attributes\":{\"fill_alpha\":{\"field\":\"fill_alpha\"},\"fill_color\":{\"field\":\"color\"},\"height\":{\"field\":\"height\",\"units\":\"data\"},\"line_color\":{\"field\":\"line_color\"},\"width\":{\"field\":\"width\",\"units\":\"data\"},\"x\":{\"field\":\"x\"},\"y\":{\"field\":\"y\"}},\"id\":\"6da42c07-3b52-4333-ae43-a811e39cad05\",\"type\":\"Rect\"},{\"attributes\":{\"data_source\":{\"id\":\"560c0686-f996-4b8f-861b-7a7e871cc551\",\"type\":\"ColumnDataSource\"},\"glyph\":{\"id\":\"1a228023-9b96-4502-b112-b47ea7a8ea65\",\"type\":\"Rect\"},\"hover_glyph\":null,\"nonselection_glyph\":null,\"selection_glyph\":null},\"id\":\"db6f8303-365a-435c-898b-17938cb970e3\",\"type\":\"GlyphRenderer\"},{\"attributes\":{\"callback\":null,\"factors\":[\"Ursus spelaeus\",\"Ursus arctos\",\"Ursus thibetanus\",\"Melursus ursinus\",\"Ursus americanus\",\"Helarctos malayanus\",\"Ailuropoda melanoleuca\",\"Tremarctos ornatus\",\"Ursus maritimus\"]},\"id\":\"5920fd51-d753-4549-bdf9-fb8322be09de\",\"type\":\"FactorRange\"},{\"attributes\":{\"callback\":null,\"column_names\":[\"x\",\"y\",\"width\",\"height\",\"color\",\"fill_alpha\",\"line_color\",\"line_alpha\",\"label\"],\"data\":{\"chart_index\":[{\"proportion\":\"polar\",\"species\":\"Melursus ursinus\"}],\"color\":[\"red\"],\"fill_alpha\":[0.8],\"height\":[0.3403693931398417],\"label\":[{\"proportion\":\"polar\",\"species\":\"Melursus ursinus\"}],\"line_alpha\":[1.0],\"line_color\":[\"white\"],\"proportion\":[\"polar\"],\"species\":[\"Melursus ursinus\"],\"width\":[0.8],\"x\":[\"Melursus ursinus\"],\"y\":[0.2598944591029024]}},\"id\":\"cee71828-688c-4929-a177-3f0ebd6a07e6\",\"type\":\"ColumnDataSource\"},{\"attributes\":{\"fill_alpha\":{\"field\":\"fill_alpha\"},\"fill_color\":{\"field\":\"color\"},\"height\":{\"field\":\"height\",\"units\":\"data\"},\"line_color\":{\"field\":\"line_color\"},\"width\":{\"field\":\"width\",\"units\":\"data\"},\"x\":{\"field\":\"x\"},\"y\":{\"field\":\"y\"}},\"id\":\"f6a1ae15-c91d-425a-847b-383d198c6a68\",\"type\":\"Rect\"},{\"attributes\":{\"data_source\":{\"id\":\"639535d0-ddd3-4f43-a276-dcd089a60923\",\"type\":\"ColumnDataSource\"},\"glyph\":{\"id\":\"cb1fb7ee-81d5-4fb7-8b45-297b02745f28\",\"type\":\"Rect\"},\"hover_glyph\":null,\"nonselection_glyph\":null,\"selection_glyph\":null},\"id\":\"97b385ff-ff21-41b2-b22b-3ea9b73b294b\",\"type\":\"GlyphRenderer\"},{\"attributes\":{\"callback\":null,\"column_names\":[\"x\",\"y\",\"width\",\"height\",\"color\",\"fill_alpha\",\"line_color\",\"line_alpha\",\"label\"],\"data\":{\"chart_index\":[{\"proportion\":\"charged\",\"species\":\"Melursus ursinus\"}],\"color\":[\"yellow\"],\"fill_alpha\":[0.8],\"height\":[0.08970976253298153],\"label\":[{\"proportion\":\"charged\",\"species\":\"Melursus ursinus\"}],\"line_alpha\":[1.0],\"line_color\":[\"white\"],\"proportion\":[\"charged\"],\"species\":[\"Melursus ursinus\"],\"width\":[0.8],\"x\":[\"Melursus ursinus\"],\"y\":[0.044854881266490766]}},\"id\":\"41ec8e83-0fad-4433-b0a3-364423a03b70\",\"type\":\"ColumnDataSource\"},{\"attributes\":{\"callback\":null,\"column_names\":[\"x\",\"y\",\"width\",\"height\",\"color\",\"fill_alpha\",\"line_color\",\"line_alpha\",\"label\"],\"data\":{\"chart_index\":[{\"proportion\":\"hydrophobic\",\"species\":\"Helarctos malayanus\"}],\"color\":[\"pink\"],\"fill_alpha\":[0.8],\"height\":[0.5672823218997362],\"label\":[{\"proportion\":\"hydrophobic\",\"species\":\"Helarctos malayanus\"}],\"line_alpha\":[1.0],\"line_color\":[\"white\"],\"proportion\":[\"hydrophobic\"],\"species\":[\"Helarctos malayanus\"],\"width\":[0.8],\"x\":[\"Helarctos malayanus\"],\"y\":[0.7163588390501319]}},\"id\":\"560c0686-f996-4b8f-861b-7a7e871cc551\",\"type\":\"ColumnDataSource\"},{\"attributes\":{\"data_source\":{\"id\":\"52e962fd-824b-4e54-82c6-79c49c8d05d2\",\"type\":\"ColumnDataSource\"},\"glyph\":{\"id\":\"8f0ae27a-7fb6-4476-9daf-33f0a5c190fc\",\"type\":\"Rect\"},\"hover_glyph\":null,\"nonselection_glyph\":null,\"selection_glyph\":null},\"id\":\"64ae5ff6-7f4c-4241-9867-cfa460655111\",\"type\":\"GlyphRenderer\"},{\"attributes\":{\"fill_alpha\":{\"field\":\"fill_alpha\"},\"fill_color\":{\"field\":\"color\"},\"height\":{\"field\":\"height\",\"units\":\"data\"},\"line_color\":{\"field\":\"line_color\"},\"width\":{\"field\":\"width\",\"units\":\"data\"},\"x\":{\"field\":\"x\"},\"y\":{\"field\":\"y\"}},\"id\":\"30b57b17-41f7-42a6-89ee-9c06fa6c6b40\",\"type\":\"Rect\"},{\"attributes\":{\"callback\":null,\"column_names\":[\"x\",\"y\",\"width\",\"height\",\"color\",\"fill_alpha\",\"line_color\",\"line_alpha\",\"label\"],\"data\":{\"chart_index\":[{\"proportion\":\"polar\",\"species\":\"Ursus americanus\"}],\"color\":[\"red\"],\"fill_alpha\":[0.8],\"height\":[0.33773087071240104],\"label\":[{\"proportion\":\"polar\",\"species\":\"Ursus americanus\"}],\"line_alpha\":[1.0],\"line_color\":[\"white\"],\"proportion\":[\"polar\"],\"species\":[\"Ursus americanus\"],\"width\":[0.8],\"x\":[\"Ursus americanus\"],\"y\":[0.25857519788918204]}},\"id\":\"7643a7cf-652a-4936-8026-1728c101c192\",\"type\":\"ColumnDataSource\"},{\"attributes\":{\"label\":{\"value\":\"polar\"},\"renderers\":[{\"id\":\"be15e7d0-d3b4-427a-a860-7db9d00e656a\",\"type\":\"GlyphRenderer\"}]},\"id\":\"5117824b-3a38-4510-83d8-3a7f1ef4a64c\",\"type\":\"LegendItem\"},{\"attributes\":{\"fill_alpha\":{\"field\":\"fill_alpha\"},\"fill_color\":{\"field\":\"color\"},\"height\":{\"field\":\"height\",\"units\":\"data\"},\"line_color\":{\"field\":\"line_color\"},\"width\":{\"field\":\"width\",\"units\":\"data\"},\"x\":{\"field\":\"x\"},\"y\":{\"field\":\"y\"}},\"id\":\"6da33dea-4b0a-4069-a992-09e76f3d9383\",\"type\":\"Rect\"},{\"attributes\":{\"data_source\":{\"id\":\"75b65577-ffb4-43f0-861b-0b032003ee26\",\"type\":\"ColumnDataSource\"},\"glyph\":{\"id\":\"6da42c07-3b52-4333-ae43-a811e39cad05\",\"type\":\"Rect\"},\"hover_glyph\":null,\"nonselection_glyph\":null,\"selection_glyph\":null},\"id\":\"ad10fbd7-eb81-4505-a831-4f4cf057e225\",\"type\":\"GlyphRenderer\"},{\"attributes\":{\"data_source\":{\"id\":\"e8a19044-427c-469d-bc55-7390cec98d6c\",\"type\":\"ColumnDataSource\"},\"glyph\":{\"id\":\"1b5e9ebd-5f9c-45a2-ae71-96aa41e45aa2\",\"type\":\"Rect\"},\"hover_glyph\":null,\"nonselection_glyph\":null,\"selection_glyph\":null},\"id\":\"214d90c2-d780-4968-ac71-f9cb5e3d9c13\",\"type\":\"GlyphRenderer\"},{\"attributes\":{\"fill_alpha\":{\"field\":\"fill_alpha\"},\"fill_color\":{\"field\":\"color\"},\"height\":{\"field\":\"height\",\"units\":\"data\"},\"line_color\":{\"field\":\"line_color\"},\"width\":{\"field\":\"width\",\"units\":\"data\"},\"x\":{\"field\":\"x\"},\"y\":{\"field\":\"y\"}},\"id\":\"5a173346-309c-4cf0-b5ae-1db2757208b6\",\"type\":\"Rect\"},{\"attributes\":{\"data_source\":{\"id\":\"6522c6a7-8d5d-4d45-94a5-ea5ef8ed9e78\",\"type\":\"ColumnDataSource\"},\"glyph\":{\"id\":\"fd62cd1e-421c-4e86-8343-2e22f1de2cbf\",\"type\":\"Rect\"},\"hover_glyph\":null,\"nonselection_glyph\":null,\"selection_glyph\":null},\"id\":\"7e4bf86c-cb6b-4c3b-a32f-3c1de1d4d965\",\"type\":\"GlyphRenderer\"},{\"attributes\":{\"fill_alpha\":{\"field\":\"fill_alpha\"},\"fill_color\":{\"field\":\"color\"},\"height\":{\"field\":\"height\",\"units\":\"data\"},\"line_color\":{\"field\":\"line_color\"},\"width\":{\"field\":\"width\",\"units\":\"data\"},\"x\":{\"field\":\"x\"},\"y\":{\"field\":\"y\"}},\"id\":\"3af62f2f-a32e-470e-bb94-cf761e48d7dd\",\"type\":\"Rect\"},{\"attributes\":{\"fill_alpha\":{\"field\":\"fill_alpha\"},\"fill_color\":{\"field\":\"color\"},\"height\":{\"field\":\"height\",\"units\":\"data\"},\"line_color\":{\"field\":\"line_color\"},\"width\":{\"field\":\"width\",\"units\":\"data\"},\"x\":{\"field\":\"x\"},\"y\":{\"field\":\"y\"}},\"id\":\"70424fe8-631f-43fb-9267-12eb38c895eb\",\"type\":\"Rect\"},{\"attributes\":{\"callback\":null,\"column_names\":[\"x\",\"y\",\"width\",\"height\",\"color\",\"fill_alpha\",\"line_color\",\"line_alpha\",\"label\"],\"data\":{\"chart_index\":[{\"proportion\":\"hydrophobic\",\"species\":\"Ursus thibetanus\"}],\"color\":[\"pink\"],\"fill_alpha\":[0.8],\"height\":[0.5804749340369393],\"label\":[{\"proportion\":\"hydrophobic\",\"species\":\"Ursus thibetanus\"}],\"line_alpha\":[1.0],\"line_color\":[\"white\"],\"proportion\":[\"hydrophobic\"],\"species\":[\"Ursus thibetanus\"],\"width\":[0.8],\"x\":[\"Ursus thibetanus\"],\"y\":[0.7097625329815304]}},\"id\":\"9dd14aa9-c480-410f-b53c-901c80b0633a\",\"type\":\"ColumnDataSource\"},{\"attributes\":{\"dimension\":1,\"plot\":{\"id\":\"f47c03b6-4565-417e-8a0c-dc6e0ffa071c\",\"subtype\":\"Chart\",\"type\":\"Plot\"},\"ticker\":{\"id\":\"f18825d8-d94a-4a86-8a78-c0eeeecc8081\",\"type\":\"BasicTicker\"}},\"id\":\"15236482-42e5-4627-b497-b08dd11b4ccd\",\"type\":\"Grid\"},{\"attributes\":{\"data_source\":{\"id\":\"d34390d0-5707-43a1-bad6-fbd3c276bcf8\",\"type\":\"ColumnDataSource\"},\"glyph\":{\"id\":\"30b57b17-41f7-42a6-89ee-9c06fa6c6b40\",\"type\":\"Rect\"},\"hover_glyph\":null,\"nonselection_glyph\":null,\"selection_glyph\":null},\"id\":\"be15e7d0-d3b4-427a-a860-7db9d00e656a\",\"type\":\"GlyphRenderer\"},{\"attributes\":{\"callback\":null,\"column_names\":[\"x\",\"y\",\"width\",\"height\",\"color\",\"fill_alpha\",\"line_color\",\"line_alpha\",\"label\"],\"data\":{\"chart_index\":[{\"proportion\":\"hydrophobic\",\"species\":\"Tremarctos ornatus\"}],\"color\":[\"pink\"],\"fill_alpha\":[0.8],\"height\":[0.575197889182058],\"label\":[{\"proportion\":\"hydrophobic\",\"species\":\"Tremarctos ornatus\"}],\"line_alpha\":[1.0],\"line_color\":[\"white\"],\"proportion\":[\"hydrophobic\"],\"species\":[\"Tremarctos ornatus\"],\"width\":[0.8],\"x\":[\"Tremarctos ornatus\"],\"y\":[0.712401055408971]}},\"id\":\"e8a19044-427c-469d-bc55-7390cec98d6c\",\"type\":\"ColumnDataSource\"},{\"attributes\":{\"callback\":null,\"column_names\":[\"x\",\"y\",\"width\",\"height\",\"color\",\"fill_alpha\",\"line_color\",\"line_alpha\",\"label\"],\"data\":{\"chart_index\":[{\"proportion\":\"charged\",\"species\":\"Ursus americanus\"}],\"color\":[\"yellow\"],\"fill_alpha\":[0.8],\"height\":[0.08970976253298153],\"label\":[{\"proportion\":\"charged\",\"species\":\"Ursus americanus\"}],\"line_alpha\":[1.0],\"line_color\":[\"white\"],\"proportion\":[\"charged\"],\"species\":[\"Ursus americanus\"],\"width\":[0.8],\"x\":[\"Ursus americanus\"],\"y\":[0.044854881266490766]}},\"id\":\"c261a90f-308e-461d-a742-20220213c523\",\"type\":\"ColumnDataSource\"},{\"attributes\":{\"data_source\":{\"id\":\"0d3e8e11-af02-4412-ba6a-0af4f7aefad2\",\"type\":\"ColumnDataSource\"},\"glyph\":{\"id\":\"6da33dea-4b0a-4069-a992-09e76f3d9383\",\"type\":\"Rect\"},\"hover_glyph\":null,\"nonselection_glyph\":null,\"selection_glyph\":null},\"id\":\"400d8242-ed56-488f-a390-b24eb0bd5f6f\",\"type\":\"GlyphRenderer\"},{\"attributes\":{\"data_source\":{\"id\":\"924132df-cc9b-42b6-88ec-d5698c138ba1\",\"type\":\"ColumnDataSource\"},\"glyph\":{\"id\":\"70424fe8-631f-43fb-9267-12eb38c895eb\",\"type\":\"Rect\"},\"hover_glyph\":null,\"nonselection_glyph\":null,\"selection_glyph\":null},\"id\":\"a7eb779f-21ec-4d60-94ff-e28ad9f1d21a\",\"type\":\"GlyphRenderer\"},{\"attributes\":{\"fill_alpha\":{\"field\":\"fill_alpha\"},\"fill_color\":{\"field\":\"color\"},\"height\":{\"field\":\"height\",\"units\":\"data\"},\"line_color\":{\"field\":\"line_color\"},\"width\":{\"field\":\"width\",\"units\":\"data\"},\"x\":{\"field\":\"x\"},\"y\":{\"field\":\"y\"}},\"id\":\"a093bec6-8bf0-4466-82b3-f30f0c127669\",\"type\":\"Rect\"},{\"attributes\":{\"callback\":null,\"column_names\":[\"x\",\"y\",\"width\",\"height\",\"color\",\"fill_alpha\",\"line_color\",\"line_alpha\",\"label\"],\"data\":{\"chart_index\":[{\"proportion\":\"polar\",\"species\":\"Tremarctos ornatus\"}],\"color\":[\"red\"],\"fill_alpha\":[0.8],\"height\":[0.33509234828496043],\"label\":[{\"proportion\":\"polar\",\"species\":\"Tremarctos ornatus\"}],\"line_alpha\":[1.0],\"line_color\":[\"white\"],\"proportion\":[\"polar\"],\"species\":[\"Tremarctos ornatus\"],\"width\":[0.8],\"x\":[\"Tremarctos ornatus\"],\"y\":[0.25725593667546176]}},\"id\":\"75b65577-ffb4-43f0-861b-0b032003ee26\",\"type\":\"ColumnDataSource\"},{\"attributes\":{\"data_source\":{\"id\":\"698ed368-d85f-4635-ab43-9b39a6642579\",\"type\":\"ColumnDataSource\"},\"glyph\":{\"id\":\"3af62f2f-a32e-470e-bb94-cf761e48d7dd\",\"type\":\"Rect\"},\"hover_glyph\":null,\"nonselection_glyph\":null,\"selection_glyph\":null},\"id\":\"a55f0e93-c5a5-4aca-824c-cebb61725d62\",\"type\":\"GlyphRenderer\"},{\"attributes\":{\"fill_alpha\":{\"field\":\"fill_alpha\"},\"fill_color\":{\"field\":\"color\"},\"height\":{\"field\":\"height\",\"units\":\"data\"},\"line_color\":{\"field\":\"line_color\"},\"width\":{\"field\":\"width\",\"units\":\"data\"},\"x\":{\"field\":\"x\"},\"y\":{\"field\":\"y\"}},\"id\":\"f512a5c9-dde0-46c4-9e9c-9d2c0d9ae447\",\"type\":\"Rect\"},{\"attributes\":{\"fill_alpha\":{\"field\":\"fill_alpha\"},\"fill_color\":{\"field\":\"color\"},\"height\":{\"field\":\"height\",\"units\":\"data\"},\"line_color\":{\"field\":\"line_color\"},\"width\":{\"field\":\"width\",\"units\":\"data\"},\"x\":{\"field\":\"x\"},\"y\":{\"field\":\"y\"}},\"id\":\"fd62cd1e-421c-4e86-8343-2e22f1de2cbf\",\"type\":\"Rect\"},{\"attributes\":{\"fill_alpha\":{\"field\":\"fill_alpha\"},\"fill_color\":{\"field\":\"color\"},\"height\":{\"field\":\"height\",\"units\":\"data\"},\"line_color\":{\"field\":\"line_color\"},\"width\":{\"field\":\"width\",\"units\":\"data\"},\"x\":{\"field\":\"x\"},\"y\":{\"field\":\"y\"}},\"id\":\"77763197-30ae-4636-9cec-d0dfef1afd74\",\"type\":\"Rect\"},{\"attributes\":{\"callback\":null,\"column_names\":[\"x\",\"y\",\"width\",\"height\",\"color\",\"fill_alpha\",\"line_color\",\"line_alpha\",\"label\"],\"data\":{\"chart_index\":[{\"proportion\":\"hydrophobic\",\"species\":\"Melursus ursinus\"}],\"color\":[\"pink\"],\"fill_alpha\":[0.8],\"height\":[0.5699208443271768],\"label\":[{\"proportion\":\"hydrophobic\",\"species\":\"Melursus ursinus\"}],\"line_alpha\":[1.0],\"line_color\":[\"white\"],\"proportion\":[\"hydrophobic\"],\"species\":[\"Melursus ursinus\"],\"width\":[0.8],\"x\":[\"Melursus ursinus\"],\"y\":[0.7150395778364116]}},\"id\":\"c97169a0-c017-4a74-be60-0c3e115a33cb\",\"type\":\"ColumnDataSource\"},{\"attributes\":{\"items\":[{\"id\":\"ce30d8fd-6e02-48c6-a898-02366ac614dd\",\"type\":\"LegendItem\"},{\"id\":\"5117824b-3a38-4510-83d8-3a7f1ef4a64c\",\"type\":\"LegendItem\"},{\"id\":\"2b533d1c-b9b1-4387-a76b-81b3eab4ed32\",\"type\":\"LegendItem\"}],\"plot\":{\"id\":\"f47c03b6-4565-417e-8a0c-dc6e0ffa071c\",\"subtype\":\"Chart\",\"type\":\"Plot\"}},\"id\":\"46384636-7158-40a5-9b04-d13bd960f984\",\"type\":\"Legend\"},{\"attributes\":{\"callback\":null,\"column_names\":[\"x\",\"y\",\"width\",\"height\",\"color\",\"fill_alpha\",\"line_color\",\"line_alpha\",\"label\"],\"data\":{\"chart_index\":[{\"proportion\":\"hydrophobic\",\"species\":\"Ailuropoda melanoleuca\"}],\"color\":[\"pink\"],\"fill_alpha\":[0.8],\"height\":[0.5672823218997362],\"label\":[{\"proportion\":\"hydrophobic\",\"species\":\"Ailuropoda melanoleuca\"}],\"line_alpha\":[1.0],\"line_color\":[\"white\"],\"proportion\":[\"hydrophobic\"],\"species\":[\"Ailuropoda melanoleuca\"],\"width\":[0.8],\"x\":[\"Ailuropoda melanoleuca\"],\"y\":[0.7163588390501319]}},\"id\":\"295c0494-db2e-401c-af93-190d62647de7\",\"type\":\"ColumnDataSource\"},{\"attributes\":{\"fill_alpha\":{\"field\":\"fill_alpha\"},\"fill_color\":{\"field\":\"color\"},\"height\":{\"field\":\"height\",\"units\":\"data\"},\"line_color\":{\"field\":\"line_color\"},\"width\":{\"field\":\"width\",\"units\":\"data\"},\"x\":{\"field\":\"x\"},\"y\":{\"field\":\"y\"}},\"id\":\"56ed5b71-e9ce-47f8-8933-948e3c3bb0a1\",\"type\":\"Rect\"},{\"attributes\":{\"callback\":null,\"end\":1.05},\"id\":\"a1000fe2-38c1-46e0-ab27-093bc1059c7d\",\"type\":\"Range1d\"},{\"attributes\":{\"callback\":null,\"column_names\":[\"x\",\"y\",\"width\",\"height\",\"color\",\"fill_alpha\",\"line_color\",\"line_alpha\",\"label\"],\"data\":{\"chart_index\":[{\"proportion\":\"polar\",\"species\":\"Helarctos malayanus\"}],\"color\":[\"red\"],\"fill_alpha\":[0.8],\"height\":[0.3403693931398417],\"label\":[{\"proportion\":\"polar\",\"species\":\"Helarctos malayanus\"}],\"line_alpha\":[1.0],\"line_color\":[\"white\"],\"proportion\":[\"polar\"],\"species\":[\"Helarctos malayanus\"],\"width\":[0.8],\"x\":[\"Helarctos malayanus\"],\"y\":[0.262532981530343]}},\"id\":\"68a125f5-d3a5-49ad-b57f-f6d6ab7c164a\",\"type\":\"ColumnDataSource\"},{\"attributes\":{\"callback\":null,\"column_names\":[\"x\",\"y\",\"width\",\"height\",\"color\",\"fill_alpha\",\"line_color\",\"line_alpha\",\"label\"],\"data\":{\"chart_index\":[{\"proportion\":\"polar\",\"species\":\"Ailuropoda melanoleuca\"}],\"color\":[\"red\"],\"fill_alpha\":[0.8],\"height\":[0.34300791556728233],\"label\":[{\"proportion\":\"polar\",\"species\":\"Ailuropoda melanoleuca\"}],\"line_alpha\":[1.0],\"line_color\":[\"white\"],\"proportion\":[\"polar\"],\"species\":[\"Ailuropoda melanoleuca\"],\"width\":[0.8],\"x\":[\"Ailuropoda melanoleuca\"],\"y\":[0.2612137203166227]}},\"id\":\"255bdc46-1224-47fd-8261-6625a51c6587\",\"type\":\"ColumnDataSource\"},{\"attributes\":{\"axis_label\":\"Sum( Proportions )\",\"formatter\":{\"id\":\"4b887b32-0fd5-4ce7-a2c6-9119988fef67\",\"type\":\"BasicTickFormatter\"},\"plot\":{\"id\":\"f47c03b6-4565-417e-8a0c-dc6e0ffa071c\",\"subtype\":\"Chart\",\"type\":\"Plot\"},\"ticker\":{\"id\":\"f18825d8-d94a-4a86-8a78-c0eeeecc8081\",\"type\":\"BasicTicker\"}},\"id\":\"71825250-b208-48c8-94d0-6975ef5c1732\",\"type\":\"LinearAxis\"},{\"attributes\":{\"callback\":null,\"column_names\":[\"x\",\"y\",\"width\",\"height\",\"color\",\"fill_alpha\",\"line_color\",\"line_alpha\",\"label\"],\"data\":{\"chart_index\":[{\"proportion\":\"hydrophobic\",\"species\":\"Ursus americanus\"}],\"color\":[\"pink\"],\"fill_alpha\":[0.8],\"height\":[0.5725593667546174],\"label\":[{\"proportion\":\"hydrophobic\",\"species\":\"Ursus americanus\"}],\"line_alpha\":[1.0],\"line_color\":[\"white\"],\"proportion\":[\"hydrophobic\"],\"species\":[\"Ursus americanus\"],\"width\":[0.8],\"x\":[\"Ursus americanus\"],\"y\":[0.7137203166226913]}},\"id\":\"90756ed5-f2c9-4cd5-b7da-1e42d5f67752\",\"type\":\"ColumnDataSource\"},{\"attributes\":{\"data_source\":{\"id\":\"e1cda9e7-f449-48d6-b8c2-04d0ea52a967\",\"type\":\"ColumnDataSource\"},\"glyph\":{\"id\":\"f6a1ae15-c91d-425a-847b-383d198c6a68\",\"type\":\"Rect\"},\"hover_glyph\":null,\"nonselection_glyph\":null,\"selection_glyph\":null},\"id\":\"5ccb5cd3-5573-4f3b-92cd-94b7f4a2bfb2\",\"type\":\"GlyphRenderer\"},{\"attributes\":{\"callback\":null,\"column_names\":[\"x\",\"y\",\"width\",\"height\",\"color\",\"fill_alpha\",\"line_color\",\"line_alpha\",\"label\"],\"data\":{\"chart_index\":[{\"proportion\":\"charged\",\"species\":\"Helarctos malayanus\"}],\"color\":[\"yellow\"],\"fill_alpha\":[0.8],\"height\":[0.09234828496042216],\"label\":[{\"proportion\":\"charged\",\"species\":\"Helarctos malayanus\"}],\"line_alpha\":[1.0],\"line_color\":[\"white\"],\"proportion\":[\"charged\"],\"species\":[\"Helarctos malayanus\"],\"width\":[0.8],\"x\":[\"Helarctos malayanus\"],\"y\":[0.04617414248021108]}},\"id\":\"44dfffa1-0d74-4a5a-80a5-426e1c9cea6f\",\"type\":\"ColumnDataSource\"},{\"attributes\":{\"fill_alpha\":{\"field\":\"fill_alpha\"},\"fill_color\":{\"field\":\"color\"},\"height\":{\"field\":\"height\",\"units\":\"data\"},\"line_color\":{\"field\":\"line_color\"},\"width\":{\"field\":\"width\",\"units\":\"data\"},\"x\":{\"field\":\"x\"},\"y\":{\"field\":\"y\"}},\"id\":\"0dc399ef-deb5-4a0c-9a00-c638aef6022a\",\"type\":\"Rect\"},{\"attributes\":{\"data_source\":{\"id\":\"41ec8e83-0fad-4433-b0a3-364423a03b70\",\"type\":\"ColumnDataSource\"},\"glyph\":{\"id\":\"a093bec6-8bf0-4466-82b3-f30f0c127669\",\"type\":\"Rect\"},\"hover_glyph\":null,\"nonselection_glyph\":null,\"selection_glyph\":null},\"id\":\"8dcdbd85-71f8-477c-bac7-419e47e92238\",\"type\":\"GlyphRenderer\"},{\"attributes\":{\"data_source\":{\"id\":\"404447ed-a50f-4c58-91a2-86c24972cbe1\",\"type\":\"ColumnDataSource\"},\"glyph\":{\"id\":\"77763197-30ae-4636-9cec-d0dfef1afd74\",\"type\":\"Rect\"},\"hover_glyph\":null,\"nonselection_glyph\":null,\"selection_glyph\":null},\"id\":\"988f73e2-6911-4d01-9c57-a15c90f737b5\",\"type\":\"GlyphRenderer\"},{\"attributes\":{\"callback\":null,\"column_names\":[\"x\",\"y\",\"width\",\"height\",\"color\",\"fill_alpha\",\"line_color\",\"line_alpha\",\"label\"],\"data\":{\"chart_index\":[{\"proportion\":\"hydrophobic\",\"species\":\"Ursus spelaeus\"}],\"color\":[\"pink\"],\"fill_alpha\":[0.8],\"height\":[0.5778364116094987],\"label\":[{\"proportion\":\"hydrophobic\",\"species\":\"Ursus spelaeus\"}],\"line_alpha\":[1.0],\"line_color\":[\"white\"],\"proportion\":[\"hydrophobic\"],\"species\":[\"Ursus spelaeus\"],\"width\":[0.8],\"x\":[\"Ursus spelaeus\"],\"y\":[0.7110817941952506]}},\"id\":\"924132df-cc9b-42b6-88ec-d5698c138ba1\",\"type\":\"ColumnDataSource\"},{\"attributes\":{\"callback\":null,\"column_names\":[\"x\",\"y\",\"width\",\"height\",\"color\",\"fill_alpha\",\"line_color\",\"line_alpha\",\"label\"],\"data\":{\"chart_index\":[{\"proportion\":\"hydrophobic\",\"species\":\"Ursus arctos\"}],\"color\":[\"pink\"],\"fill_alpha\":[0.8],\"height\":[0.58311345646438],\"label\":[{\"proportion\":\"hydrophobic\",\"species\":\"Ursus arctos\"}],\"line_alpha\":[1.0],\"line_color\":[\"white\"],\"proportion\":[\"hydrophobic\"],\"species\":[\"Ursus arctos\"],\"width\":[0.8],\"x\":[\"Ursus arctos\"],\"y\":[0.70844327176781]}},\"id\":\"404447ed-a50f-4c58-91a2-86c24972cbe1\",\"type\":\"ColumnDataSource\"},{\"attributes\":{\"callback\":null,\"column_names\":[\"x\",\"y\",\"width\",\"height\",\"color\",\"fill_alpha\",\"line_color\",\"line_alpha\",\"label\"],\"data\":{\"chart_index\":[{\"proportion\":\"polar\",\"species\":\"Ursus maritimus\"}],\"color\":[\"red\"],\"fill_alpha\":[0.8],\"height\":[0.32717678100263853],\"label\":[{\"proportion\":\"polar\",\"species\":\"Ursus maritimus\"}],\"line_alpha\":[1.0],\"line_color\":[\"white\"],\"proportion\":[\"polar\"],\"species\":[\"Ursus maritimus\"],\"width\":[0.8],\"x\":[\"Ursus maritimus\"],\"y\":[0.2559366754617414]}},\"id\":\"4ce54415-5d70-4370-83de-ecf58c024696\",\"type\":\"ColumnDataSource\"},{\"attributes\":{\"fill_alpha\":{\"field\":\"fill_alpha\"},\"fill_color\":{\"field\":\"color\"},\"height\":{\"field\":\"height\",\"units\":\"data\"},\"line_color\":{\"field\":\"line_color\"},\"width\":{\"field\":\"width\",\"units\":\"data\"},\"x\":{\"field\":\"x\"},\"y\":{\"field\":\"y\"}},\"id\":\"b742f4f4-2fc9-4945-9b0b-a1b848ff7573\",\"type\":\"Rect\"},{\"attributes\":{\"fill_alpha\":{\"field\":\"fill_alpha\"},\"fill_color\":{\"field\":\"color\"},\"height\":{\"field\":\"height\",\"units\":\"data\"},\"line_color\":{\"field\":\"line_color\"},\"width\":{\"field\":\"width\",\"units\":\"data\"},\"x\":{\"field\":\"x\"},\"y\":{\"field\":\"y\"}},\"id\":\"05b60a66-0ec2-47dc-a15d-100a0ab46845\",\"type\":\"Rect\"},{\"attributes\":{\"fill_alpha\":{\"field\":\"fill_alpha\"},\"fill_color\":{\"field\":\"color\"},\"height\":{\"field\":\"height\",\"units\":\"data\"},\"line_color\":{\"field\":\"line_color\"},\"width\":{\"field\":\"width\",\"units\":\"data\"},\"x\":{\"field\":\"x\"},\"y\":{\"field\":\"y\"}},\"id\":\"4f98fe53-8927-4a5d-b87c-daf240e753d0\",\"type\":\"Rect\"},{\"attributes\":{\"data_source\":{\"id\":\"c261a90f-308e-461d-a742-20220213c523\",\"type\":\"ColumnDataSource\"},\"glyph\":{\"id\":\"f512a5c9-dde0-46c4-9e9c-9d2c0d9ae447\",\"type\":\"Rect\"},\"hover_glyph\":null,\"nonselection_glyph\":null,\"selection_glyph\":null},\"id\":\"63d09911-03fb-48df-8863-33945864e346\",\"type\":\"GlyphRenderer\"},{\"attributes\":{\"fill_alpha\":{\"field\":\"fill_alpha\"},\"fill_color\":{\"field\":\"color\"},\"height\":{\"field\":\"height\",\"units\":\"data\"},\"line_color\":{\"field\":\"line_color\"},\"width\":{\"field\":\"width\",\"units\":\"data\"},\"x\":{\"field\":\"x\"},\"y\":{\"field\":\"y\"}},\"id\":\"4e2ce0da-f647-4904-97d7-78182582051f\",\"type\":\"Rect\"},{\"attributes\":{\"data_source\":{\"id\":\"cee71828-688c-4929-a177-3f0ebd6a07e6\",\"type\":\"ColumnDataSource\"},\"glyph\":{\"id\":\"05b60a66-0ec2-47dc-a15d-100a0ab46845\",\"type\":\"Rect\"},\"hover_glyph\":null,\"nonselection_glyph\":null,\"selection_glyph\":null},\"id\":\"73858e0f-40c8-4a9e-8414-347161ce97f6\",\"type\":\"GlyphRenderer\"},{\"attributes\":{\"callback\":null,\"column_names\":[\"x\",\"y\",\"width\",\"height\",\"color\",\"fill_alpha\",\"line_color\",\"line_alpha\",\"label\"],\"data\":{\"chart_index\":[{\"proportion\":\"polar\",\"species\":\"Ursus arctos\"}],\"color\":[\"red\"],\"fill_alpha\":[0.8],\"height\":[0.3245382585751979],\"label\":[{\"proportion\":\"polar\",\"species\":\"Ursus arctos\"}],\"line_alpha\":[1.0],\"line_color\":[\"white\"],\"proportion\":[\"polar\"],\"species\":[\"Ursus arctos\"],\"width\":[0.8],\"x\":[\"Ursus arctos\"],\"y\":[0.2546174142480211]}},\"id\":\"6522c6a7-8d5d-4d45-94a5-ea5ef8ed9e78\",\"type\":\"ColumnDataSource\"},{\"attributes\":{\"callback\":null,\"column_names\":[\"x\",\"y\",\"width\",\"height\",\"color\",\"fill_alpha\",\"line_color\",\"line_alpha\",\"label\"],\"data\":{\"chart_index\":[{\"proportion\":\"hydrophobic\",\"species\":\"Ursus maritimus\"}],\"color\":[\"pink\"],\"fill_alpha\":[0.8],\"height\":[0.5804749340369393],\"label\":[{\"proportion\":\"hydrophobic\",\"species\":\"Ursus maritimus\"}],\"line_alpha\":[1.0],\"line_color\":[\"white\"],\"proportion\":[\"hydrophobic\"],\"species\":[\"Ursus maritimus\"],\"width\":[0.8],\"x\":[\"Ursus maritimus\"],\"y\":[0.7097625329815304]}},\"id\":\"698ed368-d85f-4635-ab43-9b39a6642579\",\"type\":\"ColumnDataSource\"},{\"attributes\":{\"fill_alpha\":{\"field\":\"fill_alpha\"},\"fill_color\":{\"field\":\"color\"},\"height\":{\"field\":\"height\",\"units\":\"data\"},\"line_color\":{\"field\":\"line_color\"},\"width\":{\"field\":\"width\",\"units\":\"data\"},\"x\":{\"field\":\"x\"},\"y\":{\"field\":\"y\"}},\"id\":\"a1a0a04b-8b9b-4927-bd44-d86e815abe4a\",\"type\":\"Rect\"},{\"attributes\":{\"callback\":null,\"column_names\":[\"x\",\"y\",\"width\",\"height\",\"color\",\"fill_alpha\",\"line_color\",\"line_alpha\",\"label\"],\"data\":{\"chart_index\":[{\"proportion\":\"polar\",\"species\":\"Ursus spelaeus\"}],\"color\":[\"red\"],\"fill_alpha\":[0.8],\"height\":[0.32981530343007914],\"label\":[{\"proportion\":\"polar\",\"species\":\"Ursus spelaeus\"}],\"line_alpha\":[1.0],\"line_color\":[\"white\"],\"proportion\":[\"polar\"],\"species\":[\"Ursus spelaeus\"],\"width\":[0.8],\"x\":[\"Ursus spelaeus\"],\"y\":[0.25725593667546176]}},\"id\":\"d34390d0-5707-43a1-bad6-fbd3c276bcf8\",\"type\":\"ColumnDataSource\"},{\"attributes\":{\"label\":{\"value\":\"charged\"},\"renderers\":[{\"id\":\"a8a4d863-9597-409c-9f85-86b73357da16\",\"type\":\"GlyphRenderer\"}]},\"id\":\"ce30d8fd-6e02-48c6-a898-02366ac614dd\",\"type\":\"LegendItem\"},{\"attributes\":{\"data_source\":{\"id\":\"9dd14aa9-c480-410f-b53c-901c80b0633a\",\"type\":\"ColumnDataSource\"},\"glyph\":{\"id\":\"b742f4f4-2fc9-4945-9b0b-a1b848ff7573\",\"type\":\"Rect\"},\"hover_glyph\":null,\"nonselection_glyph\":null,\"selection_glyph\":null},\"id\":\"c01a01a1-5d40-4abd-b26c-089ab8a23322\",\"type\":\"GlyphRenderer\"},{\"attributes\":{},\"id\":\"c10b86ee-710d-40e3-9fba-c929a03ca2bd\",\"type\":\"ToolEvents\"},{\"attributes\":{\"data_source\":{\"id\":\"44dfffa1-0d74-4a5a-80a5-426e1c9cea6f\",\"type\":\"ColumnDataSource\"},\"glyph\":{\"id\":\"5c295d25-d7be-45c8-ada4-d90ecd22ddda\",\"type\":\"Rect\"},\"hover_glyph\":null,\"nonselection_glyph\":null,\"selection_glyph\":null},\"id\":\"61237dd9-80c0-4bf7-b35e-aea2e786a276\",\"type\":\"GlyphRenderer\"},{\"attributes\":{\"data_source\":{\"id\":\"4ce54415-5d70-4370-83de-ecf58c024696\",\"type\":\"ColumnDataSource\"},\"glyph\":{\"id\":\"4e2ce0da-f647-4904-97d7-78182582051f\",\"type\":\"Rect\"},\"hover_glyph\":null,\"nonselection_glyph\":null,\"selection_glyph\":null},\"id\":\"bf48a2db-cf05-4af4-a7aa-9872f1da3efc\",\"type\":\"GlyphRenderer\"},{\"attributes\":{},\"id\":\"f18825d8-d94a-4a86-8a78-c0eeeecc8081\",\"type\":\"BasicTicker\"},{\"attributes\":{\"below\":[{\"id\":\"6b804128-6b47-4abb-a67e-8421a0be6a35\",\"type\":\"CategoricalAxis\"}],\"css_classes\":null,\"left\":[{\"id\":\"71825250-b208-48c8-94d0-6975ef5c1732\",\"type\":\"LinearAxis\"}],\"renderers\":[{\"id\":\"ddeb2873-6682-40f7-8743-57bf5845fbba\",\"type\":\"BoxAnnotation\"},{\"id\":\"a8a4d863-9597-409c-9f85-86b73357da16\",\"type\":\"GlyphRenderer\"},{\"id\":\"64ae5ff6-7f4c-4241-9867-cfa460655111\",\"type\":\"GlyphRenderer\"},{\"id\":\"400d8242-ed56-488f-a390-b24eb0bd5f6f\",\"type\":\"GlyphRenderer\"},{\"id\":\"8dcdbd85-71f8-477c-bac7-419e47e92238\",\"type\":\"GlyphRenderer\"},{\"id\":\"63d09911-03fb-48df-8863-33945864e346\",\"type\":\"GlyphRenderer\"},{\"id\":\"61237dd9-80c0-4bf7-b35e-aea2e786a276\",\"type\":\"GlyphRenderer\"},{\"id\":\"dec48505-1390-48b4-b997-4fa6fb6f2c35\",\"type\":\"GlyphRenderer\"},{\"id\":\"127d6b77-7da3-4355-9c93-9fc443f65bdf\",\"type\":\"GlyphRenderer\"},{\"id\":\"97b385ff-ff21-41b2-b22b-3ea9b73b294b\",\"type\":\"GlyphRenderer\"},{\"id\":\"be15e7d0-d3b4-427a-a860-7db9d00e656a\",\"type\":\"GlyphRenderer\"},{\"id\":\"7e4bf86c-cb6b-4c3b-a32f-3c1de1d4d965\",\"type\":\"GlyphRenderer\"},{\"id\":\"5ccb5cd3-5573-4f3b-92cd-94b7f4a2bfb2\",\"type\":\"GlyphRenderer\"},{\"id\":\"73858e0f-40c8-4a9e-8414-347161ce97f6\",\"type\":\"GlyphRenderer\"},{\"id\":\"3346c89d-17bc-455e-88c4-6ebba5ee8dc2\",\"type\":\"GlyphRenderer\"},{\"id\":\"f78c975f-1a02-41c9-9475-4598938f4c35\",\"type\":\"GlyphRenderer\"},{\"id\":\"038f96be-b555-45a4-92a6-2eeb7d254684\",\"type\":\"GlyphRenderer\"},{\"id\":\"ad10fbd7-eb81-4505-a831-4f4cf057e225\",\"type\":\"GlyphRenderer\"},{\"id\":\"bf48a2db-cf05-4af4-a7aa-9872f1da3efc\",\"type\":\"GlyphRenderer\"},{\"id\":\"a7eb779f-21ec-4d60-94ff-e28ad9f1d21a\",\"type\":\"GlyphRenderer\"},{\"id\":\"988f73e2-6911-4d01-9c57-a15c90f737b5\",\"type\":\"GlyphRenderer\"},{\"id\":\"c01a01a1-5d40-4abd-b26c-089ab8a23322\",\"type\":\"GlyphRenderer\"},{\"id\":\"e43676ed-6f7a-4f9b-ae28-2c81d3db6937\",\"type\":\"GlyphRenderer\"},{\"id\":\"a423f32c-fcf2-4b25-aa2b-b35e5d470ab3\",\"type\":\"GlyphRenderer\"},{\"id\":\"db6f8303-365a-435c-898b-17938cb970e3\",\"type\":\"GlyphRenderer\"},{\"id\":\"34132e63-e6e4-46ee-a249-17ef49e8eaee\",\"type\":\"GlyphRenderer\"},{\"id\":\"214d90c2-d780-4968-ac71-f9cb5e3d9c13\",\"type\":\"GlyphRenderer\"},{\"id\":\"a55f0e93-c5a5-4aca-824c-cebb61725d62\",\"type\":\"GlyphRenderer\"},{\"id\":\"46384636-7158-40a5-9b04-d13bd960f984\",\"type\":\"Legend\"},{\"id\":\"6b804128-6b47-4abb-a67e-8421a0be6a35\",\"type\":\"CategoricalAxis\"},{\"id\":\"71825250-b208-48c8-94d0-6975ef5c1732\",\"type\":\"LinearAxis\"},{\"id\":\"15236482-42e5-4627-b497-b08dd11b4ccd\",\"type\":\"Grid\"}],\"title\":{\"id\":\"d6476da1-12dd-4d17-be4a-6345e9368add\",\"type\":\"Title\"},\"tool_events\":{\"id\":\"c10b86ee-710d-40e3-9fba-c929a03ca2bd\",\"type\":\"ToolEvents\"},\"toolbar\":{\"id\":\"3fabd0fd-f9b4-4f37-9d13-35e3c151c545\",\"type\":\"Toolbar\"},\"x_mapper_type\":\"auto\",\"x_range\":{\"id\":\"5920fd51-d753-4549-bdf9-fb8322be09de\",\"type\":\"FactorRange\"},\"y_mapper_type\":\"auto\",\"y_range\":{\"id\":\"a1000fe2-38c1-46e0-ab27-093bc1059c7d\",\"type\":\"Range1d\"}},\"id\":\"f47c03b6-4565-417e-8a0c-dc6e0ffa071c\",\"subtype\":\"Chart\",\"type\":\"Plot\"}],\"root_ids\":[\"f47c03b6-4565-417e-8a0c-dc6e0ffa071c\"]},\"title\":\"Bokeh Application\",\"version\":\"0.12.4\"}};\n",
       "            var render_items = [{\"docid\":\"42b9e020-d955-469a-a2fa-aecc15ae5b66\",\"elementid\":\"a0c83844-f82d-4fe5-9812-28adbe7e98ae\",\"modelid\":\"f47c03b6-4565-417e-8a0c-dc6e0ffa071c\"}];\n",
       "            \n",
       "            Bokeh.embed.embed_items(docs_json, render_items);\n",
       "          };\n",
       "          if (document.readyState != \"loading\") fn();\n",
       "          else document.addEventListener(\"DOMContentLoaded\", fn);\n",
       "        })();\n",
       "      },\n",
       "      function(Bokeh) {\n",
       "      }\n",
       "    ];\n",
       "  \n",
       "    function run_inline_js() {\n",
       "      \n",
       "      if ((window.Bokeh !== undefined) || (force === true)) {\n",
       "        for (var i = 0; i < inline_js.length; i++) {\n",
       "          inline_js[i](window.Bokeh);\n",
       "        }if (force === true) {\n",
       "          display_loaded();\n",
       "        }} else if (Date.now() < window._bokeh_timeout) {\n",
       "        setTimeout(run_inline_js, 100);\n",
       "      } else if (!window._bokeh_failed_load) {\n",
       "        console.log(\"Bokeh: BokehJS failed to load within specified timeout.\");\n",
       "        window._bokeh_failed_load = true;\n",
       "      } else if (force !== true) {\n",
       "        var cell = $(document.getElementById(\"a0c83844-f82d-4fe5-9812-28adbe7e98ae\")).parents('.cell').data().cell;\n",
       "        cell.output_area.append_execute_result(NB_LOAD_WARNING)\n",
       "      }\n",
       "  \n",
       "    }\n",
       "  \n",
       "    if (window._bokeh_is_loading === 0) {\n",
       "      console.log(\"Bokeh: BokehJS loaded, going straight to plotting\");\n",
       "      run_inline_js();\n",
       "    } else {\n",
       "      load_libs(js_urls, function() {\n",
       "        console.log(\"Bokeh: BokehJS plotting callback run at\", now());\n",
       "        run_inline_js();\n",
       "      });\n",
       "    }\n",
       "  }(this));\n",
       "</script>"
      ]
     },
     "metadata": {},
     "output_type": "display_data"
    }
   ],
   "source": [
    "show(proportions)"
   ]
  },
  {
   "cell_type": "markdown",
   "metadata": {},
   "source": [
    "The proportion of amino acid types of cytochrome b have highly similarity across these bear species."
   ]
  },
  {
   "cell_type": "markdown",
   "metadata": {},
   "source": [
    "## 8. Save to a csv file"
   ]
  },
  {
   "cell_type": "code",
   "execution_count": 31,
   "metadata": {
    "collapsed": false
   },
   "outputs": [],
   "source": [
    "Bear_df.to_csv('bears_mass_cytb.csv', index=False)"
   ]
  },
  {
   "cell_type": "markdown",
   "metadata": {},
   "source": [
    "## 9. Bonus"
   ]
  },
  {
   "cell_type": "markdown",
   "metadata": {},
   "source": [
    "### Plot of sequence GC%"
   ]
  },
  {
   "cell_type": "code",
   "execution_count": 32,
   "metadata": {
    "collapsed": true
   },
   "outputs": [],
   "source": [
    "from Bio import SeqIO\n",
    "from Bio.SeqUtils import GC"
   ]
  },
  {
   "cell_type": "code",
   "execution_count": 33,
   "metadata": {
    "collapsed": false
   },
   "outputs": [],
   "source": [
    "gc_values = sorted(GC(rec.seq) for rec in SeqIO.parse(\"bears_cytb.fasta\", \"fasta\"))"
   ]
  },
  {
   "cell_type": "code",
   "execution_count": 34,
   "metadata": {
    "collapsed": false
   },
   "outputs": [
    {
     "data": {
      "image/png": "[encoded data removed]",
      "text/plain": [
       "<matplotlib.figure.Figure at 0x1e582478080>"
      ]
     },
     "metadata": {},
     "output_type": "display_data"
    }
   ],
   "source": [
    "import pylab\n",
    "pylab.plot(gc_values)\n",
    "pylab.title(\"%i bears cytochrome b sequences\\nGC%% %0.1f to %0.1f\" \\\n",
    "            % (len(gc_values),min(gc_values),max(gc_values)))\n",
    "pylab.xlabel(\"Genes\")\n",
    "pylab.ylabel(\"GC%\")\n",
    "pylab.show()"
   ]
  },
  {
   "cell_type": "markdown",
   "metadata": {},
   "source": [
    "## Information sources"
   ]
  },
  {
   "cell_type": "markdown",
   "metadata": {},
   "source": [
    "Biopython Tutorial and Cookbook, http://biopython.org/DIST/docs/tutorial/Tutorial.html"
   ]
  },
  {
   "cell_type": "markdown",
   "metadata": {},
   "source": [
    "Introduction to SeqIO, http://biopython.org/wiki/SeqIO\n"
   ]
  },
  {
   "cell_type": "markdown",
   "metadata": {},
   "source": [
    "itertools, https://docs.python.org/2/library/itertools.html, https://docs.python.org/2/library/itertools.html#itertools.takewhile"
   ]
  },
  {
   "cell_type": "markdown",
   "metadata": {},
   "source": [
    "Python Data Analysis Library, http://pandas.pydata.org/"
   ]
  },
  {
   "cell_type": "markdown",
   "metadata": {},
   "source": [
    "Seaborn: statistical data visualization, https://seaborn.pydata.org/"
   ]
  },
  {
   "cell_type": "markdown",
   "metadata": {},
   "source": [
    "Bokeh, http://bokeh.pydata.org/en/latest/"
   ]
  }
 ],
 "metadata": {
  "kernelspec": {
   "display_name": "Python 3",
   "language": "python",
   "name": "python3"
  },
  "language_info": {
   "codemirror_mode": {
    "name": "ipython",
    "version": 3
   },
   "file_extension": ".py",
   "mimetype": "text/x-python",
   "name": "python",
   "nbconvert_exporter": "python",
   "pygments_lexer": "ipython3",
   "version": "3.6.0"
  }
 },
 "nbformat": 4,
 "nbformat_minor": 2
}
